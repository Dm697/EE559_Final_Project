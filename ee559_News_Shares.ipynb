{
  "nbformat": 4,
  "nbformat_minor": 0,
  "metadata": {
    "colab": {
      "name": "ee559_News_Shares.ipynb",
      "provenance": [],
      "collapsed_sections": [],
      "authorship_tag": "ABX9TyNEDl1jGqblR/Ila6/Jt0Po",
      "include_colab_link": true
    },
    "kernelspec": {
      "display_name": "Python 3",
      "name": "python3"
    },
    "language_info": {
      "name": "python"
    }
  },
  "cells": [
    {
      "cell_type": "markdown",
      "metadata": {
        "id": "view-in-github",
        "colab_type": "text"
      },
      "source": [
        "<a href=\"https://colab.research.google.com/github/Dm697/EE559_Final_Project/blob/main/ee559_News_Shares.ipynb\" target=\"_parent\"><img src=\"https://colab.research.google.com/assets/colab-badge.svg\" alt=\"Open In Colab\"/></a>"
      ]
    },
    {
      "cell_type": "code",
      "metadata": {
        "id": "cr_CVvxYNQWs"
      },
      "source": [
        "import numpy as np\n",
        "import pandas as pd\n",
        "import matplotlib.pyplot as plt\n",
        "import seaborn as sns\n",
        "from sklearn.preprocessing import StandardScaler\n",
        "from sklearn.linear_model import LinearRegression\n",
        "from sklearn.metrics import mean_absolute_error, r2_score\n",
        "from sklearn.neural_network import MLPRegressor\n",
        "from sklearn.linear_model import SGDRegressor\n",
        "from sklearn.neighbors import KNeighborsRegressor\n",
        "from sklearn.linear_model import Lasso\n",
        "from sklearn.linear_model import Ridge\n",
        "from sklearn.svm import SVR\n",
        "from sklearn.ensemble import RandomForestRegressor\n",
        "from sklearn.ensemble import GradientBoostingRegressor\n",
        "pd.options.mode.chained_assignment = None  # default='warn'"
      ],
      "execution_count": null,
      "outputs": []
    },
    {
      "cell_type": "code",
      "metadata": {
        "colab": {
          "base_uri": "https://localhost:8080/"
        },
        "id": "FB1pcY3CNYBV",
        "outputId": "4fa7f2bb-097d-477f-db80-a7b6a0285a10"
      },
      "source": [
        "from google.colab import drive\n",
        "drive.mount(\"/content/drive\")\n",
        "!ls \"/content/drive/My Drive/EE559_Final_Project\""
      ],
      "execution_count": null,
      "outputs": [
        {
          "output_type": "stream",
          "text": [
            "Mounted at /content/drive\n",
            "NEWS_Test_data.csv   NEWS_Training_data.csv\n",
            "NEWS_Test_label.csv  NEWS_Training_label.csv\n"
          ],
          "name": "stdout"
        }
      ]
    },
    {
      "cell_type": "code",
      "metadata": {
        "id": "IDsPWNM7NeCP"
      },
      "source": [
        "train_X = pd.read_csv(\"/content/drive/My Drive/EE559_Final_Project/NEWS_Training_data.csv\")\n",
        "train_y = pd.read_csv(\"/content/drive/My Drive/EE559_Final_Project/NEWS_Training_label.csv\").to_numpy()\n",
        "test_X = pd.read_csv(\"/content/drive/My Drive/EE559_Final_Project/NEWS_Test_data.csv\")\n",
        "test_y = pd.read_csv(\"/content/drive/My Drive/EE559_Final_Project/NEWS_Test_label.csv\").to_numpy()"
      ],
      "execution_count": null,
      "outputs": []
    },
    {
      "cell_type": "markdown",
      "metadata": {
        "id": "fXslUK7pToHF"
      },
      "source": [
        "Define the metric calculation functions"
      ]
    },
    {
      "cell_type": "code",
      "metadata": {
        "id": "ZDu3hMOLTnPd"
      },
      "source": [
        "def PMSE(y, y_pred):\n",
        "    y = y.reshape(y.shape[0],1)\n",
        "    y_pred = y_pred.reshape(y.shape[0],1)\n",
        "    return 1/y.shape[0]*np.power(np.divide(np.subtract(y, y_pred), np.add(y,10)),2).sum()\n",
        "    \n",
        "def PMAE(y, y_pred):\n",
        "    y = y.reshape(y.shape[0],1)\n",
        "    y_pred = y_pred.reshape(y.shape[0],1)\n",
        "    return 1/y.shape[0]*np.abs(np.divide(np.subtract(y,y_pred),np.add(y,10))).sum()\n",
        "\n",
        "def modifiedR2(y, y_pred):\n",
        "    y = y.reshape(y.shape[0],1)\n",
        "    y_pred = y_pred.reshape(y.shape[0],1)\n",
        "    y_mean = y.sum()/y.shape[0]\n",
        "    y_mean = np.repeat(y_mean, repeats = y.shape[0]).reshape(y.shape[0],y.shape[1])\n",
        "    pmse = PMSE(y, y_pred)\n",
        "    pmae = PMSE(y, y_mean)\n",
        "    return (1 - pmse/pmae)\n",
        "\n",
        "def print_metrics(y,y_pred):\n",
        "    y = y.reshape(y.shape[0],1)\n",
        "    y_pred = y_pred.reshape(y.shape[0],1)\n",
        "    print('mean_absolute_error:', mean_absolute_error(y, y_pred))\n",
        "    print('r2_score:',r2_score(y,y_pred))\n",
        "    print('PMSE:', PMSE(y, y_pred))\n",
        "    print('PMAE:', PMAE(y, y_pred))\n",
        "    print('modifiedR2:', modifiedR2(y, y_pred))"
      ],
      "execution_count": null,
      "outputs": []
    },
    {
      "cell_type": "markdown",
      "metadata": {
        "id": "_LHK06bPUCpY"
      },
      "source": [
        "Trivial System and Baseline Performance"
      ]
    },
    {
      "cell_type": "code",
      "metadata": {
        "colab": {
          "base_uri": "https://localhost:8080/"
        },
        "id": "jwwHtvy-UGKh",
        "outputId": "6d710b7e-fec6-41a0-f616-e85ad1cd0290"
      },
      "source": [
        "# trivial system output mean of output\n",
        "y_mean = train_y.sum()/train_y.shape[0]\n",
        "y_mean = np.repeat(y_mean, repeats = train_y.shape[0]).reshape(train_y.shape[0],1)\n",
        "print(\"trivial system metrics\")\n",
        "print_metrics(train_y, y_mean)\n",
        "# baseline system accuracy using linear regression\n",
        "reg = LinearRegression().fit(train_X, train_y)\n",
        "base_pred = reg.predict(train_X)\n",
        "print(\"Baseline metrics\")\n",
        "print_metrics(train_y, base_pred)"
      ],
      "execution_count": null,
      "outputs": [
        {
          "output_type": "stream",
          "text": [
            "trivial system metrics\n",
            "mean_absolute_error: 3219.7423121350107\n",
            "r2_score: 0.0\n",
            "PMSE: 18.62584095707017\n",
            "PMAE: 1.9126351176555\n",
            "modifiedR2: 0.0\n",
            "Baseline metrics\n",
            "mean_absolute_error: 3070.9264580733466\n",
            "r2_score: 0.023223176348493135\n",
            "PMSE: 26.141994095580547\n",
            "PMAE: 1.655254669345867\n",
            "modifiedR2: -0.40353362598950593\n"
          ],
          "name": "stdout"
        }
      ]
    },
    {
      "cell_type": "code",
      "metadata": {
        "colab": {
          "base_uri": "https://localhost:8080/"
        },
        "id": "_td8WGhH5EvR",
        "outputId": "06ea2ed5-66a9-47c6-d674-985f93e77adf"
      },
      "source": [
        "print_metrics(test_y, reg.predict(test_X))"
      ],
      "execution_count": null,
      "outputs": [
        {
          "output_type": "stream",
          "text": [
            "mean_absolute_error: 2801.0518671012237\n",
            "r2_score: 0.044498700422134774\n",
            "PMSE: 6.814368200854747\n",
            "PMAE: 1.5730983197320147\n",
            "modifiedR2: 0.217480058603865\n"
          ],
          "name": "stdout"
        }
      ]
    },
    {
      "cell_type": "code",
      "metadata": {
        "colab": {
          "base_uri": "https://localhost:8080/"
        },
        "id": "kDLc_d8FNmdU",
        "outputId": "da252d7c-bf93-457a-c765-e0e1a756b4db"
      },
      "source": [
        "train_X.columns"
      ],
      "execution_count": null,
      "outputs": [
        {
          "output_type": "execute_result",
          "data": {
            "text/plain": [
              "Index(['n_tokens_title', 'n_tokens_content', 'n_unique_tokens',\n",
              "       'n_non_stop_words', 'n_non_stop_unique_tokens', 'num_hrefs',\n",
              "       'num_self_hrefs', 'num_imgs', 'num_videos', 'average_token_length',\n",
              "       'num_keywords', 'data_channel_is_lifestyle',\n",
              "       'data_channel_is_entertainment', 'data_channel_is_bus',\n",
              "       'data_channel_is_socmed', 'data_channel_is_tech',\n",
              "       'data_channel_is_world', 'kw_min_min', 'kw_max_min', 'kw_avg_min',\n",
              "       'kw_min_max', 'kw_max_max', 'kw_avg_max', 'kw_min_avg', 'kw_max_avg',\n",
              "       'kw_avg_avg', 'self_reference_min_shares', 'self_reference_max_shares',\n",
              "       'self_reference_avg_sharess', 'weekday_is_monday', 'weekday_is_tuesday',\n",
              "       'weekday_is_wednesday', 'weekday_is_thursday', 'weekday_is_friday',\n",
              "       'weekday_is_saturday', 'weekday_is_sunday', 'is_weekend', 'LDAT_00',\n",
              "       'LDAT_01', 'LDAT_02', 'LDAT_03', 'LDAT_04', 'global_subjectivity',\n",
              "       'global_sentiment_polarity', 'global_rate_positive_words',\n",
              "       'global_rate_negative_words', 'rate_positive_words',\n",
              "       'rate_negative_words', 'avg_positive_polarity', 'min_positive_polarity',\n",
              "       'max_positive_polarity', 'avg_negative_polarity',\n",
              "       'min_negative_polarity', 'max_negative_polarity', 'title_subjectivity',\n",
              "       'title_sentiment_polarity', 'abs_title_subjectivity',\n",
              "       'abs_title_sentiment_polarity'],\n",
              "      dtype='object')"
            ]
          },
          "metadata": {
            "tags": []
          },
          "execution_count": 8
        }
      ]
    },
    {
      "cell_type": "markdown",
      "metadata": {
        "id": "1y9pyktbN1zT"
      },
      "source": [
        "# Feature Exploration"
      ]
    },
    {
      "cell_type": "markdown",
      "metadata": {
        "id": "NfD3vLvhTYhK"
      },
      "source": [
        "Understand the output"
      ]
    },
    {
      "cell_type": "code",
      "metadata": {
        "colab": {
          "base_uri": "https://localhost:8080/"
        },
        "id": "grlIr8tMN9ul",
        "outputId": "899894a5-7d86-473e-982c-64db3dc3507c"
      },
      "source": [
        "# the mean of the output\n",
        "y_mean = train_y.sum()/train_y.shape[0]\n",
        "print(y_mean)"
      ],
      "execution_count": null,
      "outputs": [
        {
          "output_type": "stream",
          "text": [
            "3404.088822803277\n"
          ],
          "name": "stdout"
        }
      ]
    },
    {
      "cell_type": "code",
      "metadata": {
        "colab": {
          "base_uri": "https://localhost:8080/",
          "height": 1000
        },
        "id": "nDpsXHI6OP9S",
        "outputId": "239af4c2-f193-47fd-f757-3f3360a4c4fa"
      },
      "source": [
        "plt.hist(train_y, log = True, bins = 100, density=True,alpha=0.5)"
      ],
      "execution_count": null,
      "outputs": [
        {
          "output_type": "execute_result",
          "data": {
            "text/plain": [
              "(array([1.10344646e-04, 4.99691443e-06, 1.54032715e-06, 6.22119173e-07,\n",
              "        2.86108283e-07, 2.02937270e-07, 1.63015184e-07, 6.98636505e-08,\n",
              "        7.31904910e-08, 3.99220860e-08, 2.66147240e-08, 4.99026075e-08,\n",
              "        3.32684050e-08, 2.32878835e-08, 6.65368100e-09, 1.33073620e-08,\n",
              "        9.98052150e-09, 9.98052150e-09, 3.32684050e-09, 3.32684050e-09,\n",
              "        0.00000000e+00, 3.32684050e-09, 3.32684050e-09, 6.65368100e-09,\n",
              "        9.98052150e-09, 3.32684050e-09, 3.32684050e-09, 3.32684050e-09,\n",
              "        0.00000000e+00, 0.00000000e+00, 0.00000000e+00, 0.00000000e+00,\n",
              "        0.00000000e+00, 3.32684050e-09, 0.00000000e+00, 3.32684050e-09,\n",
              "        3.32684050e-09, 0.00000000e+00, 0.00000000e+00, 0.00000000e+00,\n",
              "        0.00000000e+00, 0.00000000e+00, 0.00000000e+00, 0.00000000e+00,\n",
              "        0.00000000e+00, 0.00000000e+00, 0.00000000e+00, 0.00000000e+00,\n",
              "        0.00000000e+00, 0.00000000e+00, 0.00000000e+00, 0.00000000e+00,\n",
              "        3.32684050e-09, 0.00000000e+00, 0.00000000e+00, 0.00000000e+00,\n",
              "        0.00000000e+00, 0.00000000e+00, 0.00000000e+00, 0.00000000e+00,\n",
              "        0.00000000e+00, 0.00000000e+00, 0.00000000e+00, 0.00000000e+00,\n",
              "        0.00000000e+00, 0.00000000e+00, 0.00000000e+00, 0.00000000e+00,\n",
              "        0.00000000e+00, 0.00000000e+00, 0.00000000e+00, 0.00000000e+00,\n",
              "        0.00000000e+00, 3.32684050e-09, 0.00000000e+00, 0.00000000e+00,\n",
              "        0.00000000e+00, 3.32684050e-09, 3.32684050e-09, 0.00000000e+00,\n",
              "        0.00000000e+00, 3.32684050e-09, 0.00000000e+00, 0.00000000e+00,\n",
              "        0.00000000e+00, 0.00000000e+00, 0.00000000e+00, 0.00000000e+00,\n",
              "        0.00000000e+00, 0.00000000e+00, 0.00000000e+00, 0.00000000e+00,\n",
              "        0.00000000e+00, 0.00000000e+00, 0.00000000e+00, 0.00000000e+00,\n",
              "        0.00000000e+00, 0.00000000e+00, 0.00000000e+00, 3.32684050e-09]),\n",
              " array([1.0000000e+00, 8.4339900e+03, 1.6866980e+04, 2.5299970e+04,\n",
              "        3.3732960e+04, 4.2165950e+04, 5.0598940e+04, 5.9031930e+04,\n",
              "        6.7464920e+04, 7.5897910e+04, 8.4330900e+04, 9.2763890e+04,\n",
              "        1.0119688e+05, 1.0962987e+05, 1.1806286e+05, 1.2649585e+05,\n",
              "        1.3492884e+05, 1.4336183e+05, 1.5179482e+05, 1.6022781e+05,\n",
              "        1.6866080e+05, 1.7709379e+05, 1.8552678e+05, 1.9395977e+05,\n",
              "        2.0239276e+05, 2.1082575e+05, 2.1925874e+05, 2.2769173e+05,\n",
              "        2.3612472e+05, 2.4455771e+05, 2.5299070e+05, 2.6142369e+05,\n",
              "        2.6985668e+05, 2.7828967e+05, 2.8672266e+05, 2.9515565e+05,\n",
              "        3.0358864e+05, 3.1202163e+05, 3.2045462e+05, 3.2888761e+05,\n",
              "        3.3732060e+05, 3.4575359e+05, 3.5418658e+05, 3.6261957e+05,\n",
              "        3.7105256e+05, 3.7948555e+05, 3.8791854e+05, 3.9635153e+05,\n",
              "        4.0478452e+05, 4.1321751e+05, 4.2165050e+05, 4.3008349e+05,\n",
              "        4.3851648e+05, 4.4694947e+05, 4.5538246e+05, 4.6381545e+05,\n",
              "        4.7224844e+05, 4.8068143e+05, 4.8911442e+05, 4.9754741e+05,\n",
              "        5.0598040e+05, 5.1441339e+05, 5.2284638e+05, 5.3127937e+05,\n",
              "        5.3971236e+05, 5.4814535e+05, 5.5657834e+05, 5.6501133e+05,\n",
              "        5.7344432e+05, 5.8187731e+05, 5.9031030e+05, 5.9874329e+05,\n",
              "        6.0717628e+05, 6.1560927e+05, 6.2404226e+05, 6.3247525e+05,\n",
              "        6.4090824e+05, 6.4934123e+05, 6.5777422e+05, 6.6620721e+05,\n",
              "        6.7464020e+05, 6.8307319e+05, 6.9150618e+05, 6.9993917e+05,\n",
              "        7.0837216e+05, 7.1680515e+05, 7.2523814e+05, 7.3367113e+05,\n",
              "        7.4210412e+05, 7.5053711e+05, 7.5897010e+05, 7.6740309e+05,\n",
              "        7.7583608e+05, 7.8426907e+05, 7.9270206e+05, 8.0113505e+05,\n",
              "        8.0956804e+05, 8.1800103e+05, 8.2643402e+05, 8.3486701e+05,\n",
              "        8.4330000e+05]),\n",
              " <a list of 100 Patch objects>)"
            ]
          },
          "metadata": {
            "tags": []
          },
          "execution_count": 10
        },
        {
          "output_type": "display_data",
          "data": {
            "image/png": "[encoded data removed]",
            "text/plain": [
              "<Figure size 432x288 with 1 Axes>"
            ]
          },
          "metadata": {
            "tags": [],
            "needs_background": "light"
          }
        }
      ]
    },
    {
      "cell_type": "code",
      "metadata": {
        "id": "wdLBAZ74WJnL"
      },
      "source": [
        "# get the shares by channel\n",
        "def count_shares_based_on_channels(train_X, train_y):\n",
        "  res = [0,0,0,0,0,0,0]\n",
        "  for i in range(train_X.shape[0]):\n",
        "    temp = train_X.iloc[i,11:17].to_numpy()\n",
        "    if np.where(temp==1)[0].shape[0] == 0:\n",
        "      res[6] += train_y[i][0]\n",
        "    else:\n",
        "      index = np.where(temp==1)[0][0]\n",
        "      res[index] += train_y[i][0]\n",
        "  return res\n",
        "shares_based_on_channels = count_shares_based_on_channels(train_X, train_y)"
      ],
      "execution_count": null,
      "outputs": []
    },
    {
      "cell_type": "code",
      "metadata": {
        "colab": {
          "base_uri": "https://localhost:8080/"
        },
        "id": "UWmSFScLXHBi",
        "outputId": "1dc6cf9f-b53a-44ad-8f6d-4ca0437a8c84"
      },
      "source": [
        "shares_based_on_channels"
      ],
      "execution_count": null,
      "outputs": [
        {
          "output_type": "execute_result",
          "data": {
            "text/plain": [
              "[6668391, 18773384, 17028513, 7586046, 20256350, 17355575, 33667083]"
            ]
          },
          "metadata": {
            "tags": []
          },
          "execution_count": 12
        }
      ]
    },
    {
      "cell_type": "code",
      "metadata": {
        "colab": {
          "base_uri": "https://localhost:8080/",
          "height": 292
        },
        "id": "nSMPumUwXMHv",
        "outputId": "6ce544bd-322a-4920-e6d6-d53b7ddf674e"
      },
      "source": [
        "plt.tick_params(axis='x', labelsize=8)\n",
        "plt.bar(['lifestyle','entertainment', 'bus', 'socmed', 'tech', 'world', 'others'],shares_based_on_channels, width = 0.5)"
      ],
      "execution_count": null,
      "outputs": [
        {
          "output_type": "execute_result",
          "data": {
            "text/plain": [
              "<BarContainer object of 7 artists>"
            ]
          },
          "metadata": {
            "tags": []
          },
          "execution_count": 13
        },
        {
          "output_type": "display_data",
          "data": {
            "image/png": "[encoded data removed]",
            "text/plain": [
              "<Figure size 432x288 with 1 Axes>"
            ]
          },
          "metadata": {
            "tags": [],
            "needs_background": "light"
          }
        }
      ]
    },
    {
      "cell_type": "code",
      "metadata": {
        "id": "IBxHB5r-XV8X"
      },
      "source": [
        "# get the shares by day of week\n",
        "def count_shares_based_on_day(train_X,train_y):\n",
        "  res = [0,0,0,0,0,0,0]\n",
        "  for i in range(train_X.shape[0]):\n",
        "    temp = train_X.iloc[i,29:36].to_numpy()\n",
        "    index = np.where(temp==1)[0][0]\n",
        "    res[index] += train_y[i][0]\n",
        "  return res\n",
        "shares_based_on_days = count_shares_based_on_day(train_X,train_y)\n",
        "\n",
        "# get the shares by workday and weekend\n",
        "def count_shares_based_on_weekends(train_X,train_y):\n",
        "  res = [0,0]\n",
        "  for i in range(train_X.shape[0]):\n",
        "    temp = int(train_X.iloc[i,36])\n",
        "    res[temp] += train_y[i][0]\n",
        "  return res\n",
        "shares_based_on_weekends = count_shares_based_on_weekends(train_X,train_y)"
      ],
      "execution_count": null,
      "outputs": []
    },
    {
      "cell_type": "code",
      "metadata": {
        "colab": {
          "base_uri": "https://localhost:8080/"
        },
        "id": "FvZqC3ouXsay",
        "outputId": "4ca0c969-945f-4889-fe71-e4653a45e3b5"
      },
      "source": [
        "shares_based_on_days"
      ],
      "execution_count": null,
      "outputs": [
        {
          "output_type": "execute_result",
          "data": {
            "text/plain": [
              "[21896215, 20798207, 22351436, 21104737, 16760011, 9017245, 9407491]"
            ]
          },
          "metadata": {
            "tags": []
          },
          "execution_count": 15
        }
      ]
    },
    {
      "cell_type": "code",
      "metadata": {
        "colab": {
          "base_uri": "https://localhost:8080/",
          "height": 292
        },
        "id": "V92KxezEXwGt",
        "outputId": "15dfcd23-3519-4a1c-e1f9-2468189b61f9"
      },
      "source": [
        "plt.tick_params(axis='x', labelsize=8)\n",
        "plt.bar(['Monday','Tuesday', 'Wednesday', 'Thursday', 'Friday', 'Saturday', 'Sunday'],shares_based_on_days, width = 0.5)"
      ],
      "execution_count": null,
      "outputs": [
        {
          "output_type": "execute_result",
          "data": {
            "text/plain": [
              "<BarContainer object of 7 artists>"
            ]
          },
          "metadata": {
            "tags": []
          },
          "execution_count": 16
        },
        {
          "output_type": "display_data",
          "data": {
            "image/png": "[encoded data removed]",
            "text/plain": [
              "<Figure size 432x288 with 1 Axes>"
            ]
          },
          "metadata": {
            "tags": [],
            "needs_background": "light"
          }
        }
      ]
    },
    {
      "cell_type": "code",
      "metadata": {
        "colab": {
          "base_uri": "https://localhost:8080/"
        },
        "id": "XfaLtjjkX5sq",
        "outputId": "f5095668-633d-42e7-cafb-35fc94a99037"
      },
      "source": [
        "shares_based_on_weekends"
      ],
      "execution_count": null,
      "outputs": [
        {
          "output_type": "execute_result",
          "data": {
            "text/plain": [
              "[102910606, 18424736]"
            ]
          },
          "metadata": {
            "tags": []
          },
          "execution_count": 17
        }
      ]
    },
    {
      "cell_type": "code",
      "metadata": {
        "colab": {
          "base_uri": "https://localhost:8080/",
          "height": 293
        },
        "id": "9HEDRtj7X6xE",
        "outputId": "f688f5e2-44be-40fe-dfe1-9d1fe5544a72"
      },
      "source": [
        "plt.bar(['WorkDay','Weekend'],shares_based_on_weekends, width=0.2)"
      ],
      "execution_count": null,
      "outputs": [
        {
          "output_type": "execute_result",
          "data": {
            "text/plain": [
              "<BarContainer object of 2 artists>"
            ]
          },
          "metadata": {
            "tags": []
          },
          "execution_count": 18
        },
        {
          "output_type": "display_data",
          "data": {
            "image/png": "[encoded data removed]",
            "text/plain": [
              "<Figure size 432x288 with 1 Axes>"
            ]
          },
          "metadata": {
            "tags": [],
            "needs_background": "light"
          }
        }
      ]
    },
    {
      "cell_type": "code",
      "metadata": {
        "colab": {
          "base_uri": "https://localhost:8080/"
        },
        "id": "Ni35n7nYYkWp",
        "outputId": "85478b0a-a6c4-4df5-afad-ef064a7ac0ca"
      },
      "source": [
        "# count number of each channels\n",
        "def count_channels(train_X):\n",
        "  count_channel = [0,0,0,0,0,0,0]\n",
        "  for i in range(train_X.iloc[:,11:17].shape[1]):\n",
        "    count_channel[i] = int(train_X.iloc[:,11+i].sum())\n",
        "  count_channel[-1] = train_X.shape[0] - sum(count_channel)\n",
        "  return count_channel\n",
        "count_channel = count_channels(train_X)\n",
        "\n",
        "# count number of each days\n",
        "def count_days(train_X):\n",
        "  count_day = [0,0,0,0,0,0,0]\n",
        "  for i in range(train_X.iloc[:,29:36].shape[1]):\n",
        "    count_day[i] = int(train_X.iloc[:,29+i].sum())\n",
        "  return count_day\n",
        "count_day = count_days(train_X)\n",
        "\n",
        "#count number of weekends, workdays\n",
        "def count_weekends(train_X):\n",
        "  count_weekend = [0,0]\n",
        "  count_weekend[1] = int(train_X.iloc[:,36].sum())\n",
        "  count_weekend[0] = train_X.shape[0] - sum(count_weekend)\n",
        "  return count_weekend\n",
        "count_weekend = count_weekends(train_X)\n",
        "\n",
        "print(\"number of each channel:\", count_channel)\n",
        "print(\"number of each day:\",count_day)\n",
        "print(\"number of workdays/weekends:\",count_weekend)"
      ],
      "execution_count": null,
      "outputs": [
        {
          "output_type": "stream",
          "text": [
            "number of each channel: [1886, 6355, 5648, 2066, 6610, 7545, 5534]\n",
            "number of each day: [5984, 6598, 6667, 6580, 5131, 2209, 2475]\n",
            "number of workdays/weekends: [30960, 4684]\n"
          ],
          "name": "stdout"
        }
      ]
    },
    {
      "cell_type": "code",
      "metadata": {
        "colab": {
          "base_uri": "https://localhost:8080/"
        },
        "id": "NUbxzK6qZhP0",
        "outputId": "268a3805-43a7-4106-b74c-63776396095a"
      },
      "source": [
        "# average shares by channel\n",
        "count_channel = np.array(count_channel)\n",
        "shares_based_on_channels = np.array(shares_based_on_channels)\n",
        "channel_importance_matrix = np.divide(shares_based_on_channels, count_channel)\n",
        "\n",
        "# average shares by day\n",
        "count_day = np.array(count_day)\n",
        "shares_based_on_days = np.array(shares_based_on_days)\n",
        "day_importance_matrix = np.divide(shares_based_on_days, count_day)\n",
        "\n",
        "#average shares by weekend\n",
        "count_weekend = np.array(count_weekend)\n",
        "shares_based_on_weekends = np.array(shares_based_on_weekends)\n",
        "weekend_importance_matrix = np.divide(shares_based_on_weekends, count_weekend)\n",
        "\n",
        "print(channel_importance_matrix)\n",
        "print(day_importance_matrix)\n",
        "print(weekend_importance_matrix)\n"
      ],
      "execution_count": null,
      "outputs": [
        {
          "output_type": "stream",
          "text": [
            "[3535.73223754 2954.11235248 3014.96334986 3671.85188771 3064.50075643\n",
            " 2300.27501657 6083.67961691]\n",
            "[3659.12683824 3152.19869657 3352.54777261 3207.40683891 3266.42194504\n",
            " 4082.04843821 3801.00646465]\n",
            "[3323.98598191 3933.54739539]\n"
          ],
          "name": "stdout"
        }
      ]
    },
    {
      "cell_type": "code",
      "metadata": {
        "colab": {
          "base_uri": "https://localhost:8080/",
          "height": 281
        },
        "id": "Ey8RoFJ5aJvN",
        "outputId": "46016643-d306-4aa1-f854-eb2b818c32e6"
      },
      "source": [
        "plt.tick_params(axis='x', labelsize=8)\n",
        "plt.bar(['lifestyle','entertainment', 'bus', 'socmed', 'tech', 'world', 'others'],channel_importance_matrix, width = 0.5)"
      ],
      "execution_count": null,
      "outputs": [
        {
          "output_type": "execute_result",
          "data": {
            "text/plain": [
              "<BarContainer object of 7 artists>"
            ]
          },
          "metadata": {
            "tags": []
          },
          "execution_count": 21
        },
        {
          "output_type": "display_data",
          "data": {
            "image/png": "[encoded data removed]",
            "text/plain": [
              "<Figure size 432x288 with 1 Axes>"
            ]
          },
          "metadata": {
            "tags": [],
            "needs_background": "light"
          }
        }
      ]
    },
    {
      "cell_type": "code",
      "metadata": {
        "colab": {
          "base_uri": "https://localhost:8080/",
          "height": 281
        },
        "id": "dfPinZo7aokI",
        "outputId": "bcbbbd06-cfbb-448e-b3e1-dc9d33fae66c"
      },
      "source": [
        "plt.tick_params(axis='x', labelsize=8)\n",
        "plt.bar(['Monday','Tuesday', 'Wednesday', 'Thursday', 'Friday', 'Saturday', 'Sunday'],day_importance_matrix, width = 0.5)"
      ],
      "execution_count": null,
      "outputs": [
        {
          "output_type": "execute_result",
          "data": {
            "text/plain": [
              "<BarContainer object of 7 artists>"
            ]
          },
          "metadata": {
            "tags": []
          },
          "execution_count": 22
        },
        {
          "output_type": "display_data",
          "data": {
            "image/png": "[encoded data removed]",
            "text/plain": [
              "<Figure size 432x288 with 1 Axes>"
            ]
          },
          "metadata": {
            "tags": [],
            "needs_background": "light"
          }
        }
      ]
    },
    {
      "cell_type": "code",
      "metadata": {
        "colab": {
          "base_uri": "https://localhost:8080/",
          "height": 282
        },
        "id": "eeACm5LVav-I",
        "outputId": "e3f3af14-d381-4bea-8d95-dc646e386333"
      },
      "source": [
        "plt.bar(['WorkDay','Weekend'],weekend_importance_matrix, width=0.2)"
      ],
      "execution_count": null,
      "outputs": [
        {
          "output_type": "execute_result",
          "data": {
            "text/plain": [
              "<BarContainer object of 2 artists>"
            ]
          },
          "metadata": {
            "tags": []
          },
          "execution_count": 23
        },
        {
          "output_type": "display_data",
          "data": {
            "image/png": "[encoded data removed]",
            "text/plain": [
              "<Figure size 432x288 with 1 Axes>"
            ]
          },
          "metadata": {
            "tags": [],
            "needs_background": "light"
          }
        }
      ]
    },
    {
      "cell_type": "markdown",
      "metadata": {
        "id": "4iwMdnPVblog"
      },
      "source": [
        "# Feature Engineering"
      ]
    },
    {
      "cell_type": "code",
      "metadata": {
        "id": "XDtkgOz9braV"
      },
      "source": [
        "# make a deep copy of the original feature space\n",
        "df_copy = train_X.copy(deep=True)"
      ],
      "execution_count": null,
      "outputs": []
    },
    {
      "cell_type": "code",
      "metadata": {
        "colab": {
          "base_uri": "https://localhost:8080/"
        },
        "id": "DG_8LDe-cDW5",
        "outputId": "9c64abc6-066b-4906-845e-170c749a90d1"
      },
      "source": [
        "# by exploring the statistic of each feature, except for the nomial feature, if the feature has max value - min value over 90,\n",
        "# will perform a log scale on it\n",
        "# get the column indexes that need to perform the log scale\n",
        "threshold = 90\n",
        "statistic_map = df_copy.describe()\n",
        "log_mapping_index = []\n",
        "for i in range(df_copy.shape[1]):\n",
        "  if statistic_map.iloc[7,i] - statistic_map.iloc[3,i] >= threshold:\n",
        "    log_mapping_index.append(i)\n",
        "columns_do_maping = df_copy.columns[log_mapping_index]\n",
        "print(columns_do_maping)"
      ],
      "execution_count": null,
      "outputs": [
        {
          "output_type": "stream",
          "text": [
            "Index(['n_tokens_content', 'n_unique_tokens', 'n_non_stop_words',\n",
            "       'n_non_stop_unique_tokens', 'num_hrefs', 'num_self_hrefs', 'num_imgs',\n",
            "       'num_videos', 'kw_min_min', 'kw_max_min', 'kw_avg_min', 'kw_min_max',\n",
            "       'kw_max_max', 'kw_avg_max', 'kw_min_avg', 'kw_max_avg', 'kw_avg_avg',\n",
            "       'self_reference_min_shares', 'self_reference_max_shares',\n",
            "       'self_reference_avg_sharess'],\n",
            "      dtype='object')\n"
          ],
          "name": "stdout"
        }
      ]
    },
    {
      "cell_type": "code",
      "metadata": {
        "id": "YOW7-6VIeaAc"
      },
      "source": [
        "# do feature mapping\n",
        "# notice some feature has the min value of -1, therefore, simply add 1 to the original feature may fail to do the log scaling\n",
        "# so here set n = 1.37\n",
        "for column in columns_do_maping:\n",
        "  if df_copy[column].min() <= -1:\n",
        "    df_copy[column] = np.log(df_copy[column]-df_copy[column].min()+0.37)\n",
        "  elif df_copy[column].min() == 0:\n",
        "    df_copy[column] = np.log(df_copy[column]+1)\n",
        "  else:\n",
        "    df_copy[column] = np.log(df_copy[column])"
      ],
      "execution_count": null,
      "outputs": []
    },
    {
      "cell_type": "code",
      "metadata": {
        "colab": {
          "base_uri": "https://localhost:8080/",
          "height": 317
        },
        "id": "LeCxTGOffsY_",
        "outputId": "4076e207-965a-4ad9-fdd3-98d3689610e3"
      },
      "source": [
        "df_copy.describe()"
      ],
      "execution_count": null,
      "outputs": [
        {
          "output_type": "execute_result",
          "data": {
            "text/html": [
              "<div>\n",
              "<style scoped>\n",
              "    .dataframe tbody tr th:only-of-type {\n",
              "        vertical-align: middle;\n",
              "    }\n",
              "\n",
              "    .dataframe tbody tr th {\n",
              "        vertical-align: top;\n",
              "    }\n",
              "\n",
              "    .dataframe thead th {\n",
              "        text-align: right;\n",
              "    }\n",
              "</style>\n",
              "<table border=\"1\" class=\"dataframe\">\n",
              "  <thead>\n",
              "    <tr style=\"text-align: right;\">\n",
              "      <th></th>\n",
              "      <th>n_tokens_title</th>\n",
              "      <th>n_tokens_content</th>\n",
              "      <th>n_unique_tokens</th>\n",
              "      <th>n_non_stop_words</th>\n",
              "      <th>n_non_stop_unique_tokens</th>\n",
              "      <th>num_hrefs</th>\n",
              "      <th>num_self_hrefs</th>\n",
              "      <th>num_imgs</th>\n",
              "      <th>num_videos</th>\n",
              "      <th>average_token_length</th>\n",
              "      <th>num_keywords</th>\n",
              "      <th>data_channel_is_lifestyle</th>\n",
              "      <th>data_channel_is_entertainment</th>\n",
              "      <th>data_channel_is_bus</th>\n",
              "      <th>data_channel_is_socmed</th>\n",
              "      <th>data_channel_is_tech</th>\n",
              "      <th>data_channel_is_world</th>\n",
              "      <th>kw_min_min</th>\n",
              "      <th>kw_max_min</th>\n",
              "      <th>kw_avg_min</th>\n",
              "      <th>kw_min_max</th>\n",
              "      <th>kw_max_max</th>\n",
              "      <th>kw_avg_max</th>\n",
              "      <th>kw_min_avg</th>\n",
              "      <th>kw_max_avg</th>\n",
              "      <th>kw_avg_avg</th>\n",
              "      <th>self_reference_min_shares</th>\n",
              "      <th>self_reference_max_shares</th>\n",
              "      <th>self_reference_avg_sharess</th>\n",
              "      <th>weekday_is_monday</th>\n",
              "      <th>weekday_is_tuesday</th>\n",
              "      <th>weekday_is_wednesday</th>\n",
              "      <th>weekday_is_thursday</th>\n",
              "      <th>weekday_is_friday</th>\n",
              "      <th>weekday_is_saturday</th>\n",
              "      <th>weekday_is_sunday</th>\n",
              "      <th>is_weekend</th>\n",
              "      <th>LDAT_00</th>\n",
              "      <th>LDAT_01</th>\n",
              "      <th>LDAT_02</th>\n",
              "      <th>LDAT_03</th>\n",
              "      <th>LDAT_04</th>\n",
              "      <th>global_subjectivity</th>\n",
              "      <th>global_sentiment_polarity</th>\n",
              "      <th>global_rate_positive_words</th>\n",
              "      <th>global_rate_negative_words</th>\n",
              "      <th>rate_positive_words</th>\n",
              "      <th>rate_negative_words</th>\n",
              "      <th>avg_positive_polarity</th>\n",
              "      <th>min_positive_polarity</th>\n",
              "      <th>max_positive_polarity</th>\n",
              "      <th>avg_negative_polarity</th>\n",
              "      <th>min_negative_polarity</th>\n",
              "      <th>max_negative_polarity</th>\n",
              "      <th>title_subjectivity</th>\n",
              "      <th>title_sentiment_polarity</th>\n",
              "      <th>abs_title_subjectivity</th>\n",
              "      <th>abs_title_sentiment_polarity</th>\n",
              "    </tr>\n",
              "  </thead>\n",
              "  <tbody>\n",
              "    <tr>\n",
              "      <th>count</th>\n",
              "      <td>35644.000000</td>\n",
              "      <td>35644.000000</td>\n",
              "      <td>35644.000000</td>\n",
              "      <td>35644.000000</td>\n",
              "      <td>35644.000000</td>\n",
              "      <td>35644.000000</td>\n",
              "      <td>35644.000000</td>\n",
              "      <td>35644.000000</td>\n",
              "      <td>35644.000000</td>\n",
              "      <td>35644.000000</td>\n",
              "      <td>35644.000000</td>\n",
              "      <td>35644.000000</td>\n",
              "      <td>35644.000000</td>\n",
              "      <td>35644.000000</td>\n",
              "      <td>35644.000000</td>\n",
              "      <td>35644.000000</td>\n",
              "      <td>35644.000000</td>\n",
              "      <td>35644.000000</td>\n",
              "      <td>35644.000000</td>\n",
              "      <td>35644.000000</td>\n",
              "      <td>35644.000000</td>\n",
              "      <td>35644.000000</td>\n",
              "      <td>35644.000000</td>\n",
              "      <td>35644.000000</td>\n",
              "      <td>35644.000000</td>\n",
              "      <td>35644.000000</td>\n",
              "      <td>35644.000000</td>\n",
              "      <td>35644.000000</td>\n",
              "      <td>35644.000000</td>\n",
              "      <td>35644.000000</td>\n",
              "      <td>35644.000000</td>\n",
              "      <td>35644.000000</td>\n",
              "      <td>35644.000000</td>\n",
              "      <td>35644.000000</td>\n",
              "      <td>35644.000000</td>\n",
              "      <td>35644.000000</td>\n",
              "      <td>35644.000000</td>\n",
              "      <td>35644.000000</td>\n",
              "      <td>35644.000000</td>\n",
              "      <td>35644.000000</td>\n",
              "      <td>35644.000000</td>\n",
              "      <td>35644.000000</td>\n",
              "      <td>35644.000000</td>\n",
              "      <td>35644.000000</td>\n",
              "      <td>35644.000000</td>\n",
              "      <td>35644.000000</td>\n",
              "      <td>35644.000000</td>\n",
              "      <td>35644.000000</td>\n",
              "      <td>35644.000000</td>\n",
              "      <td>35644.000000</td>\n",
              "      <td>35644.000000</td>\n",
              "      <td>35644.000000</td>\n",
              "      <td>35644.000000</td>\n",
              "      <td>35644.000000</td>\n",
              "      <td>35644.000000</td>\n",
              "      <td>35644.000000</td>\n",
              "      <td>35644.000000</td>\n",
              "      <td>35644.000000</td>\n",
              "    </tr>\n",
              "    <tr>\n",
              "      <th>mean</th>\n",
              "      <td>10.400123</td>\n",
              "      <td>5.887449</td>\n",
              "      <td>0.421105</td>\n",
              "      <td>0.672496</td>\n",
              "      <td>0.509270</td>\n",
              "      <td>2.156039</td>\n",
              "      <td>1.208145</td>\n",
              "      <td>1.117290</td>\n",
              "      <td>0.399401</td>\n",
              "      <td>4.547007</td>\n",
              "      <td>7.224049</td>\n",
              "      <td>0.052912</td>\n",
              "      <td>0.178291</td>\n",
              "      <td>0.158456</td>\n",
              "      <td>0.057962</td>\n",
              "      <td>0.185445</td>\n",
              "      <td>0.211677</td>\n",
              "      <td>0.568216</td>\n",
              "      <td>6.394445</td>\n",
              "      <td>5.279010</td>\n",
              "      <td>5.040902</td>\n",
              "      <td>13.372410</td>\n",
              "      <td>12.242585</td>\n",
              "      <td>4.391875</td>\n",
              "      <td>8.483698</td>\n",
              "      <td>7.977370</td>\n",
              "      <td>6.192357</td>\n",
              "      <td>6.913144</td>\n",
              "      <td>6.663652</td>\n",
              "      <td>0.167882</td>\n",
              "      <td>0.185108</td>\n",
              "      <td>0.187044</td>\n",
              "      <td>0.184603</td>\n",
              "      <td>0.143951</td>\n",
              "      <td>0.061974</td>\n",
              "      <td>0.069437</td>\n",
              "      <td>0.131411</td>\n",
              "      <td>0.580503</td>\n",
              "      <td>0.453678</td>\n",
              "      <td>0.272140</td>\n",
              "      <td>0.379643</td>\n",
              "      <td>0.261110</td>\n",
              "      <td>0.443377</td>\n",
              "      <td>0.119573</td>\n",
              "      <td>0.039627</td>\n",
              "      <td>0.016592</td>\n",
              "      <td>0.682256</td>\n",
              "      <td>0.287557</td>\n",
              "      <td>0.353961</td>\n",
              "      <td>0.095557</td>\n",
              "      <td>0.756550</td>\n",
              "      <td>-0.259260</td>\n",
              "      <td>-0.521110</td>\n",
              "      <td>-0.107374</td>\n",
              "      <td>0.282345</td>\n",
              "      <td>0.071067</td>\n",
              "      <td>0.342057</td>\n",
              "      <td>0.156419</td>\n",
              "    </tr>\n",
              "    <tr>\n",
              "      <th>std</th>\n",
              "      <td>2.120473</td>\n",
              "      <td>1.258377</td>\n",
              "      <td>0.103879</td>\n",
              "      <td>0.122916</td>\n",
              "      <td>0.112148</td>\n",
              "      <td>0.809499</td>\n",
              "      <td>0.692535</td>\n",
              "      <td>0.974371</td>\n",
              "      <td>0.679148</td>\n",
              "      <td>0.847785</td>\n",
              "      <td>1.910364</td>\n",
              "      <td>0.223861</td>\n",
              "      <td>0.382763</td>\n",
              "      <td>0.365173</td>\n",
              "      <td>0.233675</td>\n",
              "      <td>0.388664</td>\n",
              "      <td>0.408502</td>\n",
              "      <td>2.128224</td>\n",
              "      <td>1.309089</td>\n",
              "      <td>1.231891</td>\n",
              "      <td>4.521282</td>\n",
              "      <td>0.921808</td>\n",
              "      <td>0.932051</td>\n",
              "      <td>3.572326</td>\n",
              "      <td>0.573159</td>\n",
              "      <td>0.480198</td>\n",
              "      <td>3.077623</td>\n",
              "      <td>3.432979</td>\n",
              "      <td>3.280778</td>\n",
              "      <td>0.373767</td>\n",
              "      <td>0.388391</td>\n",
              "      <td>0.389952</td>\n",
              "      <td>0.387981</td>\n",
              "      <td>0.351045</td>\n",
              "      <td>0.241112</td>\n",
              "      <td>0.254199</td>\n",
              "      <td>0.337854</td>\n",
              "      <td>0.170689</td>\n",
              "      <td>0.343275</td>\n",
              "      <td>0.483794</td>\n",
              "      <td>0.575513</td>\n",
              "      <td>0.459134</td>\n",
              "      <td>0.116766</td>\n",
              "      <td>0.097019</td>\n",
              "      <td>0.017421</td>\n",
              "      <td>0.010830</td>\n",
              "      <td>0.190480</td>\n",
              "      <td>0.156101</td>\n",
              "      <td>0.104674</td>\n",
              "      <td>0.071457</td>\n",
              "      <td>0.247749</td>\n",
              "      <td>0.127391</td>\n",
              "      <td>0.290164</td>\n",
              "      <td>0.094935</td>\n",
              "      <td>0.324387</td>\n",
              "      <td>0.266088</td>\n",
              "      <td>0.188648</td>\n",
              "      <td>0.226684</td>\n",
              "    </tr>\n",
              "    <tr>\n",
              "      <th>min</th>\n",
              "      <td>2.000000</td>\n",
              "      <td>0.000000</td>\n",
              "      <td>0.000000</td>\n",
              "      <td>0.000000</td>\n",
              "      <td>0.000000</td>\n",
              "      <td>0.000000</td>\n",
              "      <td>0.000000</td>\n",
              "      <td>0.000000</td>\n",
              "      <td>0.000000</td>\n",
              "      <td>0.000000</td>\n",
              "      <td>1.000000</td>\n",
              "      <td>0.000000</td>\n",
              "      <td>0.000000</td>\n",
              "      <td>0.000000</td>\n",
              "      <td>0.000000</td>\n",
              "      <td>0.000000</td>\n",
              "      <td>0.000000</td>\n",
              "      <td>-0.994252</td>\n",
              "      <td>0.000000</td>\n",
              "      <td>-0.994252</td>\n",
              "      <td>0.000000</td>\n",
              "      <td>0.000000</td>\n",
              "      <td>0.000000</td>\n",
              "      <td>-0.994252</td>\n",
              "      <td>0.000000</td>\n",
              "      <td>0.000000</td>\n",
              "      <td>0.000000</td>\n",
              "      <td>0.000000</td>\n",
              "      <td>0.000000</td>\n",
              "      <td>0.000000</td>\n",
              "      <td>0.000000</td>\n",
              "      <td>0.000000</td>\n",
              "      <td>0.000000</td>\n",
              "      <td>0.000000</td>\n",
              "      <td>0.000000</td>\n",
              "      <td>0.000000</td>\n",
              "      <td>0.000000</td>\n",
              "      <td>-1.000000</td>\n",
              "      <td>-1.000000</td>\n",
              "      <td>-1.000000</td>\n",
              "      <td>-1.000000</td>\n",
              "      <td>-1.000000</td>\n",
              "      <td>0.000000</td>\n",
              "      <td>-0.393750</td>\n",
              "      <td>0.000000</td>\n",
              "      <td>0.000000</td>\n",
              "      <td>0.000000</td>\n",
              "      <td>0.000000</td>\n",
              "      <td>0.000000</td>\n",
              "      <td>0.000000</td>\n",
              "      <td>0.000000</td>\n",
              "      <td>-1.000000</td>\n",
              "      <td>-1.000000</td>\n",
              "      <td>-1.000000</td>\n",
              "      <td>0.000000</td>\n",
              "      <td>-1.000000</td>\n",
              "      <td>0.000000</td>\n",
              "      <td>0.000000</td>\n",
              "    </tr>\n",
              "    <tr>\n",
              "      <th>25%</th>\n",
              "      <td>9.000000</td>\n",
              "      <td>5.509388</td>\n",
              "      <td>0.385832</td>\n",
              "      <td>0.693147</td>\n",
              "      <td>0.485890</td>\n",
              "      <td>1.609438</td>\n",
              "      <td>0.693147</td>\n",
              "      <td>0.693147</td>\n",
              "      <td>0.000000</td>\n",
              "      <td>4.477716</td>\n",
              "      <td>6.000000</td>\n",
              "      <td>0.000000</td>\n",
              "      <td>0.000000</td>\n",
              "      <td>0.000000</td>\n",
              "      <td>0.000000</td>\n",
              "      <td>0.000000</td>\n",
              "      <td>0.000000</td>\n",
              "      <td>-0.994252</td>\n",
              "      <td>6.100319</td>\n",
              "      <td>4.961935</td>\n",
              "      <td>0.000000</td>\n",
              "      <td>13.645079</td>\n",
              "      <td>12.059894</td>\n",
              "      <td>0.314811</td>\n",
              "      <td>8.177816</td>\n",
              "      <td>7.776280</td>\n",
              "      <td>6.459904</td>\n",
              "      <td>7.003974</td>\n",
              "      <td>6.888572</td>\n",
              "      <td>0.000000</td>\n",
              "      <td>0.000000</td>\n",
              "      <td>0.000000</td>\n",
              "      <td>0.000000</td>\n",
              "      <td>0.000000</td>\n",
              "      <td>0.000000</td>\n",
              "      <td>0.000000</td>\n",
              "      <td>0.000000</td>\n",
              "      <td>0.486804</td>\n",
              "      <td>0.163755</td>\n",
              "      <td>-0.034767</td>\n",
              "      <td>-0.095099</td>\n",
              "      <td>-0.070780</td>\n",
              "      <td>0.396180</td>\n",
              "      <td>0.058092</td>\n",
              "      <td>0.028409</td>\n",
              "      <td>0.009596</td>\n",
              "      <td>0.600000</td>\n",
              "      <td>0.185185</td>\n",
              "      <td>0.306626</td>\n",
              "      <td>0.050000</td>\n",
              "      <td>0.600000</td>\n",
              "      <td>-0.328162</td>\n",
              "      <td>-0.700000</td>\n",
              "      <td>-0.125000</td>\n",
              "      <td>0.000000</td>\n",
              "      <td>0.000000</td>\n",
              "      <td>0.166667</td>\n",
              "      <td>0.000000</td>\n",
              "    </tr>\n",
              "    <tr>\n",
              "      <th>50%</th>\n",
              "      <td>10.000000</td>\n",
              "      <td>6.016157</td>\n",
              "      <td>0.431188</td>\n",
              "      <td>0.693147</td>\n",
              "      <td>0.524974</td>\n",
              "      <td>2.197225</td>\n",
              "      <td>1.386294</td>\n",
              "      <td>0.693147</td>\n",
              "      <td>0.000000</td>\n",
              "      <td>4.663366</td>\n",
              "      <td>7.000000</td>\n",
              "      <td>0.000000</td>\n",
              "      <td>0.000000</td>\n",
              "      <td>0.000000</td>\n",
              "      <td>0.000000</td>\n",
              "      <td>0.000000</td>\n",
              "      <td>0.000000</td>\n",
              "      <td>-0.994252</td>\n",
              "      <td>6.492240</td>\n",
              "      <td>5.469620</td>\n",
              "      <td>7.244942</td>\n",
              "      <td>13.645079</td>\n",
              "      <td>12.407118</td>\n",
              "      <td>6.929603</td>\n",
              "      <td>8.378867</td>\n",
              "      <td>7.962111</td>\n",
              "      <td>7.090910</td>\n",
              "      <td>7.937732</td>\n",
              "      <td>7.696667</td>\n",
              "      <td>0.000000</td>\n",
              "      <td>0.000000</td>\n",
              "      <td>0.000000</td>\n",
              "      <td>0.000000</td>\n",
              "      <td>0.000000</td>\n",
              "      <td>0.000000</td>\n",
              "      <td>0.000000</td>\n",
              "      <td>0.000000</td>\n",
              "      <td>0.572364</td>\n",
              "      <td>0.416870</td>\n",
              "      <td>0.283263</td>\n",
              "      <td>0.627554</td>\n",
              "      <td>0.353513</td>\n",
              "      <td>0.453585</td>\n",
              "      <td>0.119480</td>\n",
              "      <td>0.039039</td>\n",
              "      <td>0.015306</td>\n",
              "      <td>0.710526</td>\n",
              "      <td>0.279412</td>\n",
              "      <td>0.358879</td>\n",
              "      <td>0.100000</td>\n",
              "      <td>0.800000</td>\n",
              "      <td>-0.253333</td>\n",
              "      <td>-0.500000</td>\n",
              "      <td>-0.100000</td>\n",
              "      <td>0.144444</td>\n",
              "      <td>0.000000</td>\n",
              "      <td>0.500000</td>\n",
              "      <td>0.000000</td>\n",
              "    </tr>\n",
              "    <tr>\n",
              "      <th>75%</th>\n",
              "      <td>12.000000</td>\n",
              "      <td>6.572283</td>\n",
              "      <td>0.475424</td>\n",
              "      <td>0.693147</td>\n",
              "      <td>0.562119</td>\n",
              "      <td>2.708050</td>\n",
              "      <td>1.609438</td>\n",
              "      <td>1.609438</td>\n",
              "      <td>0.693147</td>\n",
              "      <td>4.854886</td>\n",
              "      <td>9.000000</td>\n",
              "      <td>0.000000</td>\n",
              "      <td>0.000000</td>\n",
              "      <td>0.000000</td>\n",
              "      <td>0.000000</td>\n",
              "      <td>0.000000</td>\n",
              "      <td>0.000000</td>\n",
              "      <td>1.680828</td>\n",
              "      <td>6.908755</td>\n",
              "      <td>5.882960</td>\n",
              "      <td>8.974745</td>\n",
              "      <td>13.645079</td>\n",
              "      <td>12.708970</td>\n",
              "      <td>7.629170</td>\n",
              "      <td>8.703269</td>\n",
              "      <td>8.189422</td>\n",
              "      <td>7.863651</td>\n",
              "      <td>8.974745</td>\n",
              "      <td>8.556606</td>\n",
              "      <td>0.000000</td>\n",
              "      <td>0.000000</td>\n",
              "      <td>0.000000</td>\n",
              "      <td>0.000000</td>\n",
              "      <td>0.000000</td>\n",
              "      <td>0.000000</td>\n",
              "      <td>0.000000</td>\n",
              "      <td>0.000000</td>\n",
              "      <td>0.693758</td>\n",
              "      <td>0.793976</td>\n",
              "      <td>0.675051</td>\n",
              "      <td>0.875256</td>\n",
              "      <td>0.617714</td>\n",
              "      <td>0.508409</td>\n",
              "      <td>0.178007</td>\n",
              "      <td>0.050314</td>\n",
              "      <td>0.021739</td>\n",
              "      <td>0.800000</td>\n",
              "      <td>0.383333</td>\n",
              "      <td>0.411429</td>\n",
              "      <td>0.100000</td>\n",
              "      <td>1.000000</td>\n",
              "      <td>-0.186445</td>\n",
              "      <td>-0.300000</td>\n",
              "      <td>-0.050000</td>\n",
              "      <td>0.500000</td>\n",
              "      <td>0.150000</td>\n",
              "      <td>0.500000</td>\n",
              "      <td>0.250000</td>\n",
              "    </tr>\n",
              "    <tr>\n",
              "      <th>max</th>\n",
              "      <td>23.000000</td>\n",
              "      <td>9.044876</td>\n",
              "      <td>6.553933</td>\n",
              "      <td>6.949856</td>\n",
              "      <td>6.478510</td>\n",
              "      <td>5.720312</td>\n",
              "      <td>4.762174</td>\n",
              "      <td>4.859812</td>\n",
              "      <td>4.521789</td>\n",
              "      <td>8.041534</td>\n",
              "      <td>10.000000</td>\n",
              "      <td>1.000000</td>\n",
              "      <td>1.000000</td>\n",
              "      <td>1.000000</td>\n",
              "      <td>1.000000</td>\n",
              "      <td>1.000000</td>\n",
              "      <td>1.000000</td>\n",
              "      <td>5.935873</td>\n",
              "      <td>12.606193</td>\n",
              "      <td>10.664976</td>\n",
              "      <td>13.645079</td>\n",
              "      <td>13.645079</td>\n",
              "      <td>13.645079</td>\n",
              "      <td>8.192684</td>\n",
              "      <td>12.606193</td>\n",
              "      <td>10.682093</td>\n",
              "      <td>13.645079</td>\n",
              "      <td>13.645079</td>\n",
              "      <td>13.645079</td>\n",
              "      <td>1.000000</td>\n",
              "      <td>1.000000</td>\n",
              "      <td>1.000000</td>\n",
              "      <td>1.000000</td>\n",
              "      <td>1.000000</td>\n",
              "      <td>1.000000</td>\n",
              "      <td>1.000000</td>\n",
              "      <td>1.000000</td>\n",
              "      <td>1.000000</td>\n",
              "      <td>1.000000</td>\n",
              "      <td>1.000000</td>\n",
              "      <td>1.000000</td>\n",
              "      <td>1.000000</td>\n",
              "      <td>1.000000</td>\n",
              "      <td>0.727841</td>\n",
              "      <td>0.155488</td>\n",
              "      <td>0.184932</td>\n",
              "      <td>1.000000</td>\n",
              "      <td>1.000000</td>\n",
              "      <td>1.000000</td>\n",
              "      <td>1.000000</td>\n",
              "      <td>1.000000</td>\n",
              "      <td>0.000000</td>\n",
              "      <td>0.000000</td>\n",
              "      <td>0.000000</td>\n",
              "      <td>1.000000</td>\n",
              "      <td>1.000000</td>\n",
              "      <td>0.500000</td>\n",
              "      <td>1.000000</td>\n",
              "    </tr>\n",
              "  </tbody>\n",
              "</table>\n",
              "</div>"
            ],
            "text/plain": [
              "       n_tokens_title  ...  abs_title_sentiment_polarity\n",
              "count    35644.000000  ...                  35644.000000\n",
              "mean        10.400123  ...                      0.156419\n",
              "std          2.120473  ...                      0.226684\n",
              "min          2.000000  ...                      0.000000\n",
              "25%          9.000000  ...                      0.000000\n",
              "50%         10.000000  ...                      0.000000\n",
              "75%         12.000000  ...                      0.250000\n",
              "max         23.000000  ...                      1.000000\n",
              "\n",
              "[8 rows x 58 columns]"
            ]
          },
          "metadata": {
            "tags": []
          },
          "execution_count": 27
        }
      ]
    },
    {
      "cell_type": "code",
      "metadata": {
        "colab": {
          "base_uri": "https://localhost:8080/"
        },
        "id": "igHcVzGbhRJ9",
        "outputId": "62d34334-58ca-4af6-f8d5-f506650597f0"
      },
      "source": [
        "# since the output has a wide range, will use log to smooth the range\n",
        "print(\"Max_Min range in original output:\", train_y.max()-train_y.min())\n",
        "\n",
        "train_y_deep_copy = np.log(train_y)\n",
        "print(\"Max_Min range after log scale:\", train_y_deep_copy.max()-train_y_deep_copy.min())"
      ],
      "execution_count": null,
      "outputs": [
        {
          "output_type": "stream",
          "text": [
            "Max_Min range in original output: 843299\n",
            "Max_Min range after log scale: 13.645078045562732\n"
          ],
          "name": "stdout"
        }
      ]
    },
    {
      "cell_type": "code",
      "metadata": {
        "colab": {
          "base_uri": "https://localhost:8080/"
        },
        "id": "JuPyf06yjjwX",
        "outputId": "790e8706-95c9-4136-8caa-25621c3f6e48"
      },
      "source": [
        "col = list(range(0,11)) + list(range(17,29)) + list(range(37,58))\n",
        "col = df_copy.columns[col]\n",
        "# column do the standardization\n",
        "print(col)"
      ],
      "execution_count": null,
      "outputs": [
        {
          "output_type": "stream",
          "text": [
            "Index(['n_tokens_title', 'n_tokens_content', 'n_unique_tokens',\n",
            "       'n_non_stop_words', 'n_non_stop_unique_tokens', 'num_hrefs',\n",
            "       'num_self_hrefs', 'num_imgs', 'num_videos', 'average_token_length',\n",
            "       'num_keywords', 'kw_min_min', 'kw_max_min', 'kw_avg_min', 'kw_min_max',\n",
            "       'kw_max_max', 'kw_avg_max', 'kw_min_avg', 'kw_max_avg', 'kw_avg_avg',\n",
            "       'self_reference_min_shares', 'self_reference_max_shares',\n",
            "       'self_reference_avg_sharess', 'LDAT_00', 'LDAT_01', 'LDAT_02',\n",
            "       'LDAT_03', 'LDAT_04', 'global_subjectivity',\n",
            "       'global_sentiment_polarity', 'global_rate_positive_words',\n",
            "       'global_rate_negative_words', 'rate_positive_words',\n",
            "       'rate_negative_words', 'avg_positive_polarity', 'min_positive_polarity',\n",
            "       'max_positive_polarity', 'avg_negative_polarity',\n",
            "       'min_negative_polarity', 'max_negative_polarity', 'title_subjectivity',\n",
            "       'title_sentiment_polarity', 'abs_title_subjectivity',\n",
            "       'abs_title_sentiment_polarity'],\n",
            "      dtype='object')\n"
          ],
          "name": "stdout"
        }
      ]
    },
    {
      "cell_type": "markdown",
      "metadata": {
        "id": "TUXKk_n1HVAC"
      },
      "source": [
        "# Split Training set into training and validation"
      ]
    },
    {
      "cell_type": "code",
      "metadata": {
        "colab": {
          "base_uri": "https://localhost:8080/"
        },
        "id": "zqckVNwpA8ji",
        "outputId": "742a3eb4-52e7-406a-afd9-e258b2691116"
      },
      "source": [
        "# now we can split the train into the train set and validation set\n",
        "from sklearn import model_selection\n",
        "# Reserve 15% for testing\n",
        "X_train, X_val, y_train, y_val = model_selection.train_test_split(df_copy, train_y, test_size=0.15, random_state= 2)\n",
        "print('training data has ' + str(X_train.shape[0]) + ' observation with ' + str(X_train.shape[1]) + ' features')\n",
        "print('validation data has ' + str(X_val.shape[0]) + ' observation with ' + str(X_val.shape[1]) + ' features')\n",
        "\n",
        "y_train_deep_copy = np.log(y_train)\n",
        "\n",
        "# since the output has a wide range, will use log to smooth the range\n",
        "print(\"Max_Min range in training output:\", y_train.max()-y_train.min())\n",
        "print(\"Max_Min range after log scale:\", y_train_deep_copy.max()-y_train_deep_copy.min())"
      ],
      "execution_count": null,
      "outputs": [
        {
          "output_type": "stream",
          "text": [
            "training data has 30297 observation with 58 features\n",
            "validation data has 5347 observation with 58 features\n",
            "Max_Min range in training output: 843299\n",
            "Max_Min range after log scale: 13.645078045562732\n"
          ],
          "name": "stdout"
        }
      ]
    },
    {
      "cell_type": "code",
      "metadata": {
        "id": "sIS6lQ1UibgI"
      },
      "source": [
        "# perform standardization on the non-nominal features, nominal features are columns: 11-16, 29-36\n",
        "scaler = StandardScaler()\n",
        "scaler.fit(X_train[col])\n",
        "X_train[col] = scaler.transform(X_train[col])\n",
        "X_val[col] = scaler.transform(X_val[col])"
      ],
      "execution_count": null,
      "outputs": []
    },
    {
      "cell_type": "code",
      "metadata": {
        "colab": {
          "base_uri": "https://localhost:8080/"
        },
        "id": "3EFmHMHClMvX",
        "outputId": "8d95b0ac-4590-4bd3-de82-da72d5cccd19"
      },
      "source": [
        "lr = LinearRegression()\n",
        "lr.fit(X_train, y_train_deep_copy)\n",
        "y_pred = np.exp(lr.predict(X_val))\n",
        "print_metrics(y_val,y_pred)"
      ],
      "execution_count": null,
      "outputs": [
        {
          "output_type": "stream",
          "text": [
            "mean_absolute_error: 2333.265076762285\n",
            "r2_score: -0.004910598034634228\n",
            "PMSE: 1.8435690271685998\n",
            "PMAE: 0.733162161983918\n",
            "modifiedR2: 0.8318880384377874\n"
          ],
          "name": "stdout"
        }
      ]
    },
    {
      "cell_type": "code",
      "metadata": {
        "colab": {
          "base_uri": "https://localhost:8080/"
        },
        "id": "liz68ewasnKG",
        "outputId": "c9f873d1-d8de-41d0-ce99-020b3fbd17d4"
      },
      "source": [
        "ls = Lasso(max_iter = 10000)\n",
        "ls.fit(X_train, y_train_deep_copy.reshape(y_train_deep_copy.shape[0],))\n",
        "y_pred = np.exp(ls.predict(X_val))\n",
        "print_metrics(y_val,y_pred)"
      ],
      "execution_count": null,
      "outputs": [
        {
          "output_type": "stream",
          "text": [
            "mean_absolute_error: 2408.4855956646275\n",
            "r2_score: -0.018308445969108522\n",
            "PMSE: 2.587015770096676\n",
            "PMAE: 0.8098070947689322\n",
            "modifiedR2: 0.7640943792751425\n"
          ],
          "name": "stdout"
        }
      ]
    },
    {
      "cell_type": "code",
      "metadata": {
        "colab": {
          "base_uri": "https://localhost:8080/"
        },
        "id": "XGpV5xervPCT",
        "outputId": "e1af49ab-6e18-45ac-9743-f7c97611c865"
      },
      "source": [
        "ridge = Ridge(max_iter = 10000)\n",
        "ridge.fit(X_train, y_train_deep_copy.reshape(y_train_deep_copy.shape[0],))\n",
        "y_pred = np.exp(ridge.predict(X_val))\n",
        "print_metrics(y_val,y_pred)"
      ],
      "execution_count": null,
      "outputs": [
        {
          "output_type": "stream",
          "text": [
            "mean_absolute_error: 2333.2881471997352\n",
            "r2_score: -0.004921715635690216\n",
            "PMSE: 1.8434915693759961\n",
            "PMAE: 0.73316594253112\n",
            "modifiedR2: 0.831895101683731\n"
          ],
          "name": "stdout"
        }
      ]
    },
    {
      "cell_type": "code",
      "metadata": {
        "colab": {
          "base_uri": "https://localhost:8080/"
        },
        "id": "bfLpCenwGxH5",
        "outputId": "3f43c770-da53-4dc1-c3b8-0cc7f5a0b434"
      },
      "source": [
        "svr = SVR(gamma = 500, C = 10)\n",
        "svr.fit(X_train, y_train_deep_copy.reshape(y_train_deep_copy.shape[0],))\n",
        "y_pred = np.exp(svr.predict(X_val))\n",
        "print_metrics(y_val,y_pred)"
      ],
      "execution_count": null,
      "outputs": [
        {
          "output_type": "stream",
          "text": [
            "mean_absolute_error: 2416.840301575719\n",
            "r2_score: -0.017420756439355367\n",
            "PMSE: 2.7153404632142277\n",
            "PMAE: 0.8313877385825876\n",
            "modifiedR2: 0.7523926661529641\n"
          ],
          "name": "stdout"
        }
      ]
    },
    {
      "cell_type": "code",
      "metadata": {
        "colab": {
          "base_uri": "https://localhost:8080/"
        },
        "id": "rQWle4jZMDke",
        "outputId": "417b3036-42e1-4219-8401-a112ef939a9e"
      },
      "source": [
        "rf = RandomForestRegressor(n_estimators= 150, bootstrap= False, max_features = \"log2\", random_state=5, n_jobs=-1)\n",
        "rf.fit(X_train, y_train_deep_copy.reshape(y_train_deep_copy.shape[0],))\n",
        "y_pred = np.exp(rf.predict(X_val))\n",
        "print_metrics(y_val,y_pred)"
      ],
      "execution_count": null,
      "outputs": [
        {
          "output_type": "stream",
          "text": [
            "mean_absolute_error: 2316.8151425425376\n",
            "r2_score: -0.00037284615258159626\n",
            "PMSE: 1.8363677558046452\n",
            "PMAE: 0.7381591981645004\n",
            "modifiedR2: 0.8325447102720911\n"
          ],
          "name": "stdout"
        }
      ]
    },
    {
      "cell_type": "code",
      "metadata": {
        "colab": {
          "base_uri": "https://localhost:8080/"
        },
        "id": "DoVqWuVrMB2r",
        "outputId": "9fdd94d3-10e2-4b3b-ab6f-f0d2e7f1b980"
      },
      "source": [
        "xgb = GradientBoostingRegressor(n_estimators= 150, max_depth= 7, loss = 'huber', random_state=5)\n",
        "xgb.fit(X_train, y_train_deep_copy.reshape(y_train_deep_copy.shape[0],))\n",
        "y_pred = np.exp(xgb.predict(X_val))\n",
        "print_metrics(y_val,y_pred)"
      ],
      "execution_count": null,
      "outputs": [
        {
          "output_type": "stream",
          "text": [
            "mean_absolute_error: 2288.643311671479\n",
            "r2_score: -0.0019588820560214604\n",
            "PMSE: 1.3466540434470555\n",
            "PMAE: 0.663959830764204\n",
            "modifiedR2: 0.877200880762646\n"
          ],
          "name": "stdout"
        }
      ]
    },
    {
      "cell_type": "code",
      "metadata": {
        "colab": {
          "base_uri": "https://localhost:8080/"
        },
        "id": "khLtVR9pO-YP",
        "outputId": "682b0f5a-d3a1-4ed9-f4e2-e3bed3a051a1"
      },
      "source": [
        "sgd = SGDRegressor(max_iter=10000, loss = \"huber\", tol=1e-6, shuffle = True, random_state = 5)\n",
        "sgd.fit(X_train, y_train_deep_copy.reshape(y_train_deep_copy.shape[0],))\n",
        "y_pred = np.exp(sgd.predict(X_val))\n",
        "print_metrics(y_val,y_pred)"
      ],
      "execution_count": null,
      "outputs": [
        {
          "output_type": "stream",
          "text": [
            "mean_absolute_error: 2288.077224708748\n",
            "r2_score: -0.018186823844980493\n",
            "PMSE: 1.139812686660792\n",
            "PMAE: 0.5808561204051653\n",
            "modifiedR2: 0.8960623965014587\n"
          ],
          "name": "stdout"
        }
      ]
    },
    {
      "cell_type": "code",
      "metadata": {
        "colab": {
          "base_uri": "https://localhost:8080/"
        },
        "id": "OEdcsOu8EDlf",
        "outputId": "e3a8bb60-96ca-49a2-a885-dd7af3c66449"
      },
      "source": [
        "y_pred = np.exp(sgd.predict(X_train))\n",
        "print_metrics(y_train,y_pred)"
      ],
      "execution_count": null,
      "outputs": [
        {
          "output_type": "stream",
          "text": [
            "mean_absolute_error: 2395.9047117668197\n",
            "r2_score: -0.018083031543967953\n",
            "PMSE: 3.7799362438068105\n",
            "PMAE: 0.5931544029231682\n",
            "modifiedR2: 0.8117377688991163\n"
          ],
          "name": "stdout"
        }
      ]
    },
    {
      "cell_type": "code",
      "metadata": {
        "colab": {
          "base_uri": "https://localhost:8080/"
        },
        "id": "-Ad4V11vr8gM",
        "outputId": "e3765207-5e97-4e4c-a7ef-cb5f96e243db"
      },
      "source": [
        "knn = KNeighborsRegressor(weights = \"distance\")\n",
        "knn.fit(X_train, y_train_deep_copy.reshape(y_train_deep_copy.shape[0],))\n",
        "y_pred = np.exp(knn.predict(X_val))\n",
        "print_metrics(y_val,y_pred)"
      ],
      "execution_count": null,
      "outputs": [
        {
          "output_type": "stream",
          "text": [
            "mean_absolute_error: 2461.0469207109013\n",
            "r2_score: -0.013355338226740399\n",
            "PMSE: 2.5666416975725896\n",
            "PMAE: 0.8150748764642732\n",
            "modifiedR2: 0.7659522567110069\n"
          ],
          "name": "stdout"
        }
      ]
    },
    {
      "cell_type": "code",
      "metadata": {
        "colab": {
          "base_uri": "https://localhost:8080/"
        },
        "id": "3o83K-ipHKQA",
        "outputId": "b7ae175f-d194-42ca-e33a-4c11906b13e5"
      },
      "source": [
        "mlp = MLPRegressor(hidden_layer_sizes= 125, max_iter=750, random_state=5, activation = \"tanh\", learning_rate = \"adaptive\")\n",
        "mlp.fit(X_train, y_train_deep_copy.reshape(y_train_deep_copy.shape[0],))\n",
        "y_pred = np.exp(mlp.predict(X_val))\n",
        "print_metrics(y_val,y_pred)"
      ],
      "execution_count": null,
      "outputs": [
        {
          "output_type": "stream",
          "text": [
            "mean_absolute_error: 2715.559785315619\n",
            "r2_score: -0.010615862364206308\n",
            "PMSE: 4.550812419572148\n",
            "PMAE: 1.0592857530269477\n",
            "modifiedR2: 0.5850190628712559\n"
          ],
          "name": "stdout"
        }
      ]
    },
    {
      "cell_type": "markdown",
      "metadata": {
        "id": "EBV41EJqrKpR"
      },
      "source": [
        "# Hyper parameter tuning and Model selection"
      ]
    },
    {
      "cell_type": "code",
      "metadata": {
        "colab": {
          "base_uri": "https://localhost:8080/",
          "height": 312
        },
        "id": "w9jHPxoFrI7v",
        "outputId": "6f5439e8-dfa5-4653-ce72-b65867a38e8a"
      },
      "source": [
        "# Lasso Linear Regression\n",
        "alphas = np.logspace (-3, -1,num=150)\n",
        "mR2_score = np.empty_like(alphas)\n",
        "optimal_alpha = float('-inf')\n",
        "max_mR2 = float('-inf')\n",
        "for i, alpha in enumerate(alphas):\n",
        "  lasso = Lasso(max_iter=10000)\n",
        "  lasso.set_params(alpha = alpha)\n",
        "  lasso.fit(X_train, y_train_deep_copy.reshape(y_train_deep_copy.shape[0],))\n",
        "  y_pred = np.exp(lasso.predict(X_val))\n",
        "  mR2_score[i] = modifiedR2(y_val, y_pred)\n",
        "  if mR2_score[i] > max_mR2:\n",
        "    max_mR2 = mR2_score[i]\n",
        "    optimal_alpha = alpha\n",
        "plt.plot(alphas, mR2_score, color='b', linestyle='dashed', marker='o',markerfacecolor='blue', markersize=6)\n",
        "plt.xlabel('alpha')\n",
        "plt.ylabel('mR2')\n",
        "plt.grid(True)\n",
        "plt.title('mR2 vs. alpha')\n",
        "plt.show()\n",
        "model_Lasso_para = optimal_alpha\n",
        "print ('The optimaized alpha and score of Lasso linear is: ', model_Lasso_para, max_mR2)"
      ],
      "execution_count": null,
      "outputs": [
        {
          "output_type": "display_data",
          "data": {
            "image/png": "[encoded data removed]",
            "text/plain": [
              "<Figure size 432x288 with 1 Axes>"
            ]
          },
          "metadata": {
            "tags": []
          }
        },
        {
          "output_type": "stream",
          "text": [
            "The optimaized alpha and score of Lasso linear is:  0.001 0.8303189889055047\n"
          ],
          "name": "stdout"
        }
      ]
    },
    {
      "cell_type": "code",
      "metadata": {
        "colab": {
          "base_uri": "https://localhost:8080/",
          "height": 312
        },
        "id": "lUMeN32-rI0G",
        "outputId": "cdcfcf3e-3fb4-4818-b5d3-924ceb9d6f45"
      },
      "source": [
        "# Ridge Linear Regression\n",
        "alphas = np.logspace (-10, 3, num=250)\n",
        "mR2_score = np.empty_like(alphas)\n",
        "optimal_alpha = float('-inf')\n",
        "max_mR2 = float('-inf')\n",
        "for i, alpha in enumerate(alphas):\n",
        "  ridge = Ridge(max_iter=10000)\n",
        "  ridge.set_params(alpha = alpha)\n",
        "  ridge.fit(X_train, y_train_deep_copy.reshape(y_train_deep_copy.shape[0],))\n",
        "  y_pred = np.exp(ridge.predict(X_val))\n",
        "  mR2_score[i] = modifiedR2(y_val, y_pred)\n",
        "  if mR2_score[i] > max_mR2:\n",
        "    max_mR2 = mR2_score[i]\n",
        "    optimal_alpha = alpha\n",
        "plt.plot(alphas, mR2_score, color='b', linestyle='dashed', marker='o',markerfacecolor='blue', markersize=6)\n",
        "plt.xlabel('alpha')\n",
        "plt.ylabel('mR2')\n",
        "plt.grid(True)\n",
        "plt.title('mR2 vs. alpha')\n",
        "plt.show()\n",
        "model_Ridge_para = optimal_alpha\n",
        "print ('The optimaized alpha and score of Ridge linear is: ', model_Ridge_para,\",\", max_mR2)"
      ],
      "execution_count": null,
      "outputs": [
        {
          "output_type": "display_data",
          "data": {
            "image/png": "[encoded data removed]",
            "text/plain": [
              "<Figure size 432x288 with 1 Axes>"
            ]
          },
          "metadata": {
            "tags": []
          }
        },
        {
          "output_type": "stream",
          "text": [
            "The optimaized alpha and score of Ridge linear is:  38.93690663537552 , 0.8320392460125885\n"
          ],
          "name": "stdout"
        }
      ]
    },
    {
      "cell_type": "code",
      "metadata": {
        "colab": {
          "base_uri": "https://localhost:8080/",
          "height": 312
        },
        "id": "HWYHMz4irIte",
        "outputId": "edf6651f-b144-4721-eb1a-882b6173c9a4"
      },
      "source": [
        "# SVR\n",
        "# first roughly approximate the range of C\n",
        "C = np.array([10, 50, 100, 500, 1000])\n",
        "mR2_score = []\n",
        "optimal_C = float('-inf')\n",
        "max_mR2 = float('-inf')\n",
        "for i, c in enumerate(C):\n",
        "  svr = SVR(C = 10)\n",
        "  svr.set_params(gamma = c)\n",
        "  svr.fit(X_train, y_train_deep_copy.reshape(y_train_deep_copy.shape[0],))\n",
        "  y_pred = np.exp(svr.predict(X_val))\n",
        "  mR2_score.append(modifiedR2(y_val, y_pred))\n",
        "  if mR2_score[-1] > max_mR2:\n",
        "    max_mR2 = mR2_score[-1]\n",
        "    optimal_C = c\n",
        "plt.plot(C, mR2_score, color='b', linestyle='dashed', marker='o',markerfacecolor='blue', markersize=6)\n",
        "plt.xlabel('gamma')\n",
        "plt.ylabel('mR2')\n",
        "plt.grid(True)\n",
        "plt.title('mR2 vs. gamma')\n",
        "plt.show()\n",
        "model_SVR_para = optimal_C\n",
        "print ('The optimaized C and score of SVR is: ', model_SVR_para,\",\", max_mR2)"
      ],
      "execution_count": null,
      "outputs": [
        {
          "output_type": "display_data",
          "data": {
            "image/png": "[encoded data removed]",
            "text/plain": [
              "<Figure size 432x288 with 1 Axes>"
            ]
          },
          "metadata": {
            "tags": [],
            "needs_background": "light"
          }
        },
        {
          "output_type": "stream",
          "text": [
            "The optimaized C and score of SVR is:  500 , 0.7523926661529641\n"
          ],
          "name": "stdout"
        }
      ]
    },
    {
      "cell_type": "code",
      "metadata": {
        "colab": {
          "base_uri": "https://localhost:8080/",
          "height": 312
        },
        "id": "ECIkEhzgpSbC",
        "outputId": "7f110af9-2154-4906-cad2-5f9c951eab6b"
      },
      "source": [
        "# SVR\n",
        "C = np.array([425,450,475, 500, 525,550,575])\n",
        "mR2_score = []\n",
        "optimal_C = float('-inf')\n",
        "max_mR2 = float('-inf')\n",
        "for i, c in enumerate(C):\n",
        "  svr = SVR(C = 10)\n",
        "  svr.set_params(gamma = c)\n",
        "  svr.fit(X_train, y_train_deep_copy.reshape(y_train_deep_copy.shape[0],))\n",
        "  y_pred = np.exp(svr.predict(X_val))\n",
        "  mR2_score.append(modifiedR2(y_val, y_pred))\n",
        "  if mR2_score[-1] > max_mR2:\n",
        "    max_mR2 = mR2_score[-1]\n",
        "    optimal_C = c\n",
        "plt.plot(C, mR2_score, color='b', linestyle='dashed', marker='o',markerfacecolor='blue', markersize=6)\n",
        "plt.xlabel('gamma')\n",
        "plt.ylabel('mR2')\n",
        "plt.grid(True)\n",
        "plt.title('mR2 vs. gamma')\n",
        "plt.show()\n",
        "model_SVR_para = optimal_C\n",
        "print ('The optimaized C and score of SVR is: ', model_SVR_para,\",\", max_mR2)"
      ],
      "execution_count": null,
      "outputs": [
        {
          "output_type": "display_data",
          "data": {
            "image/png": "[encoded data removed]",
            "text/plain": [
              "<Figure size 432x288 with 1 Axes>"
            ]
          },
          "metadata": {
            "tags": [],
            "needs_background": "light"
          }
        },
        {
          "output_type": "stream",
          "text": [
            "The optimaized C and score of SVR is:  425 , 0.7523926661529641\n"
          ],
          "name": "stdout"
        }
      ]
    },
    {
      "cell_type": "code",
      "metadata": {
        "id": "pNwWFVEgrIfS",
        "colab": {
          "base_uri": "https://localhost:8080/",
          "height": 312
        },
        "outputId": "2fadbad3-83d6-459a-e93d-3bdbe45909b4"
      },
      "source": [
        "# KNN Regressor\n",
        "# K range(3,25)\n",
        "K = np.array(list(range(3, 25)))\n",
        "mR2_score = []\n",
        "optimal_K = float('-inf')\n",
        "max_mR2 = float('-inf')\n",
        "for i, k in enumerate(K):\n",
        "  knn = KNeighborsRegressor(weights = \"distance\")\n",
        "  knn.set_params(n_neighbors= k)\n",
        "  knn.fit(X_train, y_train_deep_copy.reshape(y_train_deep_copy.shape[0],))\n",
        "  y_pred = np.exp(knn.predict(X_val))\n",
        "  mR2_score.append(modifiedR2(y_val, y_pred))\n",
        "  if mR2_score[-1] > max_mR2:\n",
        "    max_mR2 = mR2_score[-1]\n",
        "    optimal_K = k\n",
        "plt.plot(K, mR2_score, color='b', linestyle='dashed', marker='o',markerfacecolor='blue', markersize=6)\n",
        "plt.xlabel('K')\n",
        "plt.ylabel('mR2')\n",
        "plt.grid(True)\n",
        "plt.title('mR2 vs. K')\n",
        "plt.show()\n",
        "model_KNN_para = optimal_K\n",
        "print ('The optimaized K and score of KNN is: ', model_KNN_para,\",\", max_mR2)"
      ],
      "execution_count": null,
      "outputs": [
        {
          "output_type": "display_data",
          "data": {
            "image/png": "[encoded data removed]",
            "text/plain": [
              "<Figure size 432x288 with 1 Axes>"
            ]
          },
          "metadata": {
            "tags": [],
            "needs_background": "light"
          }
        },
        {
          "output_type": "stream",
          "text": [
            "The optimaized K and score of KNN is:  21 , 0.8465964697612774\n"
          ],
          "name": "stdout"
        }
      ]
    },
    {
      "cell_type": "code",
      "metadata": {
        "colab": {
          "base_uri": "https://localhost:8080/",
          "height": 312
        },
        "id": "kBKvEAy1IchI",
        "outputId": "30211632-94f0-4018-918f-3929173ba058"
      },
      "source": [
        "# SGD\n",
        "# Ridge Linear Regression\n",
        "alphas = np.logspace (-5, 3, num=150)\n",
        "# alphas= [1e-5, 0.1]\n",
        "mR2_score = np.empty_like(alphas)\n",
        "optimal_alpha = float('-inf')\n",
        "max_mR2 = float('-inf')\n",
        "for i, alpha in enumerate(alphas):\n",
        "  sgd = SGDRegressor(max_iter=10000, loss = \"huber\", tol=1e-6, shuffle = True, random_state = 5)\n",
        "  sgd.set_params(alpha = alpha)\n",
        "  sgd.fit(X_train, y_train_deep_copy.reshape(y_train_deep_copy.shape[0],))\n",
        "  y_pred = np.exp(sgd.predict(X_val))\n",
        "  mR2_score[i] = modifiedR2(y_val, y_pred)\n",
        "  if mR2_score[i] > max_mR2:\n",
        "    max_mR2 = mR2_score[i]\n",
        "    optimal_alpha = alpha\n",
        "plt.plot(alphas, mR2_score, color='b', linestyle='dashed', marker='o',markerfacecolor='blue', markersize=6)\n",
        "plt.xlabel('alpha')\n",
        "plt.ylabel('mR2')\n",
        "plt.grid(True)\n",
        "plt.title('mR2 vs. alpha')\n",
        "plt.show()\n",
        "model_SGD_para = optimal_alpha\n",
        "print ('The optimaized alpha and score of SGD is: ', model_SGD_para,\",\", max_mR2)"
      ],
      "execution_count": null,
      "outputs": [
        {
          "output_type": "display_data",
          "data": {
            "image/png": "[encoded data removed]",
            "text/plain": [
              "<Figure size 432x288 with 1 Axes>"
            ]
          },
          "metadata": {
            "tags": []
          }
        },
        {
          "output_type": "stream",
          "text": [
            "The optimaized alpha and score of SGD is:  0.0006691189901715636 , 0.8962339912237309\n"
          ],
          "name": "stdout"
        }
      ]
    },
    {
      "cell_type": "code",
      "metadata": {
        "colab": {
          "base_uri": "https://localhost:8080/",
          "height": 312
        },
        "id": "kmLzq9CsIZVY",
        "outputId": "2e619829-9b1f-4088-f0d2-f855fea1e70f"
      },
      "source": [
        "# MLP\n",
        "alphas = np.logspace (-5, -1, num=50)\n",
        "mR2_score = []\n",
        "optimal_alpha = float('-inf')\n",
        "max_mR2 = float('-inf')\n",
        "for i, alpha in enumerate(alphas):\n",
        "  mlp = MLPRegressor(hidden_layer_sizes= 75, max_iter=1000, random_state=5, activation = \"tanh\", learning_rate = \"adaptive\") \n",
        "  mlp.set_params(alpha = alpha)\n",
        "  mlp.fit(X_train, y_train_deep_copy.reshape(y_train_deep_copy.shape[0],))  \n",
        "  y_pred = np.exp(mlp.predict(X_val))\n",
        "  mR2_score.append(modifiedR2(y_val, y_pred))\n",
        "  if mR2_score[-1] > max_mR2:\n",
        "    max_mR2 = mR2_score[-1]\n",
        "    optimal_alpha = alpha\n",
        "plt.plot(alphas, mR2_score, color='b', linestyle='dashed', marker='o',markerfacecolor='blue', markersize=6)\n",
        "plt.xlabel('alpha')\n",
        "plt.ylabel('mR2')\n",
        "plt.grid(True)\n",
        "plt.title('mR2 vs. Alpha')\n",
        "plt.show()\n",
        "model_MLP_para = optimal_alpha\n",
        "print ('The optimaized C and score of MLP is: ', model_MLP_para,\",\", max_mR2)"
      ],
      "execution_count": null,
      "outputs": [
        {
          "output_type": "display_data",
          "data": {
            "image/png": "[encoded data removed]",
            "text/plain": [
              "<Figure size 432x288 with 1 Axes>"
            ]
          },
          "metadata": {
            "tags": [],
            "needs_background": "light"
          }
        },
        {
          "output_type": "stream",
          "text": [
            "The optimaized C and score of MLP is:  0.05689866029018293 , 0.8477651112421964\n"
          ],
          "name": "stdout"
        }
      ]
    },
    {
      "cell_type": "code",
      "metadata": {
        "colab": {
          "base_uri": "https://localhost:8080/",
          "height": 312
        },
        "id": "CB1dftRHIRCu",
        "outputId": "17019e2f-5c11-4c95-edaa-b515bd6544ad"
      },
      "source": [
        "# Random Forest Regressor\n",
        "# max_depth: 7-30\n",
        "K = np.array(list(range(7,31)))\n",
        "mR2_score = []\n",
        "optimal_K = float('-inf')\n",
        "max_mR2 = float('-inf')\n",
        "for i, k in enumerate(K):\n",
        "  rf = RandomForestRegressor(n_estimators= 150, bootstrap= False, max_features = \"log2\", random_state=5, n_jobs=-1)\n",
        "  rf.set_params(max_depth= k)\n",
        "  rf.fit(X_train, y_train_deep_copy.reshape(y_train_deep_copy.shape[0],))\n",
        "  y_pred = np.exp(rf.predict(X_val))\n",
        "  mR2_score.append(modifiedR2(y_val, y_pred))\n",
        "  if mR2_score[-1] > max_mR2:\n",
        "    max_mR2 = mR2_score[-1]\n",
        "    optimal_K = k\n",
        "plt.plot(K, mR2_score, color='b', linestyle='dashed', marker='o',markerfacecolor='blue', markersize=6)\n",
        "plt.xlabel('K')\n",
        "plt.ylabel('mR2')\n",
        "plt.grid(True)\n",
        "plt.title('mR2 vs. Max_Depth')\n",
        "plt.show()\n",
        "model_RF_para = optimal_K\n",
        "print ('The optimaized max_depth and score of Random Forest is: ', model_RF_para,\",\", max_mR2)"
      ],
      "execution_count": null,
      "outputs": [
        {
          "output_type": "display_data",
          "data": {
            "image/png": "[encoded data removed]",
            "text/plain": [
              "<Figure size 432x288 with 1 Axes>"
            ]
          },
          "metadata": {
            "tags": []
          }
        },
        {
          "output_type": "stream",
          "text": [
            "The optimaized max_depth and score of Random Forest is:  22 , 0.843682573277241\n"
          ],
          "name": "stdout"
        }
      ]
    },
    {
      "cell_type": "code",
      "metadata": {
        "colab": {
          "base_uri": "https://localhost:8080/",
          "height": 312
        },
        "id": "X3qgDfoRIT0K",
        "outputId": "8c544780-87c6-47e7-bee6-349dbbce4494"
      },
      "source": [
        "# Gradient Boosting Machine\n",
        "# max_depth: \n",
        "K = np.array(list(range(9,16)))\n",
        "mR2_score = []\n",
        "optimal_K = float('-inf')\n",
        "max_mR2 = float('-inf')\n",
        "for i, k in enumerate(K):\n",
        "  xgb = GradientBoostingRegressor(n_estimators= 150, loss = 'huber', random_state=5)\n",
        "  xgb.set_params(max_depth= k)\n",
        "  xgb.fit(X_train, y_train_deep_copy.reshape(y_train_deep_copy.shape[0],))\n",
        "  y_pred = np.exp(xgb.predict(X_val))\n",
        "  mR2_score.append(modifiedR2(y_val, y_pred))\n",
        "  if mR2_score[-1] > max_mR2:\n",
        "    max_mR2 = mR2_score[-1]\n",
        "    optimal_K = k\n",
        "plt.plot(K, mR2_score, color='b', linestyle='dashed', marker='o',markerfacecolor='blue', markersize=6)\n",
        "plt.xlabel('K')\n",
        "plt.ylabel('mR2')\n",
        "plt.grid(True)\n",
        "plt.title('mR2 vs. Max_Depth')\n",
        "plt.show()\n",
        "model_XGB_para = optimal_K\n",
        "print ('The optimaized max_depth and score of XGboost is: ', model_XGB_para,\",\", max_mR2)"
      ],
      "execution_count": null,
      "outputs": [
        {
          "output_type": "display_data",
          "data": {
            "image/png": "[encoded data removed]",
            "text/plain": [
              "<Figure size 432x288 with 1 Axes>"
            ]
          },
          "metadata": {
            "tags": []
          }
        },
        {
          "output_type": "stream",
          "text": [
            "The optimaized max_depth and score of XGboost is:  10 , 0.858531369320657\n"
          ],
          "name": "stdout"
        }
      ]
    },
    {
      "cell_type": "markdown",
      "metadata": {
        "id": "InhfhllRrZTt"
      },
      "source": [
        "# Final test using candidate models and output the one that performs the best on the unknown test set."
      ]
    },
    {
      "cell_type": "code",
      "metadata": {
        "colab": {
          "base_uri": "https://localhost:8080/",
          "height": 368
        },
        "id": "Nl_EnHE2Qw7u",
        "outputId": "1ff76b5d-4612-498c-c2a0-276c339d8f11"
      },
      "source": [
        "## do santadardization on the whole training set\n",
        "df_copy = train_X.copy(deep=True)\n",
        "# column do the standardization\n",
        "col = list(range(0,11)) + list(range(17,29)) + list(range(37,58))\n",
        "col = df_copy.columns[col]\n",
        "threshold = 90\n",
        "statistic_map = df_copy.describe()\n",
        "log_mapping_index = []\n",
        "for i in range(df_copy.shape[1]):\n",
        "  if statistic_map.iloc[7,i] - statistic_map.iloc[3,i] >= threshold:\n",
        "    log_mapping_index.append(i)\n",
        "columns_do_maping = df_copy.columns[log_mapping_index]\n",
        "for column in columns_do_maping:\n",
        "  if df_copy[column].min() <= -1:\n",
        "    df_copy[column] = np.log(df_copy[column]-df_copy[column].min()+0.37)\n",
        "  elif df_copy[column].min() == 0:\n",
        "    df_copy[column] = np.log(df_copy[column]+1)\n",
        "  else:\n",
        "    df_copy[column] = np.log(df_copy[column])\n",
        "scaler = StandardScaler()\n",
        "scaler.fit(df_copy[col])\n",
        "df_copy[col] = scaler.transform(df_copy[col])\n",
        "df_copy.describe()"
      ],
      "execution_count": null,
      "outputs": [
        {
          "output_type": "execute_result",
          "data": {
            "text/html": [
              "<div>\n",
              "<style scoped>\n",
              "    .dataframe tbody tr th:only-of-type {\n",
              "        vertical-align: middle;\n",
              "    }\n",
              "\n",
              "    .dataframe tbody tr th {\n",
              "        vertical-align: top;\n",
              "    }\n",
              "\n",
              "    .dataframe thead th {\n",
              "        text-align: right;\n",
              "    }\n",
              "</style>\n",
              "<table border=\"1\" class=\"dataframe\">\n",
              "  <thead>\n",
              "    <tr style=\"text-align: right;\">\n",
              "      <th></th>\n",
              "      <th>n_tokens_title</th>\n",
              "      <th>n_tokens_content</th>\n",
              "      <th>n_unique_tokens</th>\n",
              "      <th>n_non_stop_words</th>\n",
              "      <th>n_non_stop_unique_tokens</th>\n",
              "      <th>num_hrefs</th>\n",
              "      <th>num_self_hrefs</th>\n",
              "      <th>num_imgs</th>\n",
              "      <th>num_videos</th>\n",
              "      <th>average_token_length</th>\n",
              "      <th>num_keywords</th>\n",
              "      <th>data_channel_is_lifestyle</th>\n",
              "      <th>data_channel_is_entertainment</th>\n",
              "      <th>data_channel_is_bus</th>\n",
              "      <th>data_channel_is_socmed</th>\n",
              "      <th>data_channel_is_tech</th>\n",
              "      <th>data_channel_is_world</th>\n",
              "      <th>kw_min_min</th>\n",
              "      <th>kw_max_min</th>\n",
              "      <th>kw_avg_min</th>\n",
              "      <th>kw_min_max</th>\n",
              "      <th>kw_max_max</th>\n",
              "      <th>kw_avg_max</th>\n",
              "      <th>kw_min_avg</th>\n",
              "      <th>kw_max_avg</th>\n",
              "      <th>kw_avg_avg</th>\n",
              "      <th>self_reference_min_shares</th>\n",
              "      <th>self_reference_max_shares</th>\n",
              "      <th>self_reference_avg_sharess</th>\n",
              "      <th>weekday_is_monday</th>\n",
              "      <th>weekday_is_tuesday</th>\n",
              "      <th>weekday_is_wednesday</th>\n",
              "      <th>weekday_is_thursday</th>\n",
              "      <th>weekday_is_friday</th>\n",
              "      <th>weekday_is_saturday</th>\n",
              "      <th>weekday_is_sunday</th>\n",
              "      <th>is_weekend</th>\n",
              "      <th>LDAT_00</th>\n",
              "      <th>LDAT_01</th>\n",
              "      <th>LDAT_02</th>\n",
              "      <th>LDAT_03</th>\n",
              "      <th>LDAT_04</th>\n",
              "      <th>global_subjectivity</th>\n",
              "      <th>global_sentiment_polarity</th>\n",
              "      <th>global_rate_positive_words</th>\n",
              "      <th>global_rate_negative_words</th>\n",
              "      <th>rate_positive_words</th>\n",
              "      <th>rate_negative_words</th>\n",
              "      <th>avg_positive_polarity</th>\n",
              "      <th>min_positive_polarity</th>\n",
              "      <th>max_positive_polarity</th>\n",
              "      <th>avg_negative_polarity</th>\n",
              "      <th>min_negative_polarity</th>\n",
              "      <th>max_negative_polarity</th>\n",
              "      <th>title_subjectivity</th>\n",
              "      <th>title_sentiment_polarity</th>\n",
              "      <th>abs_title_subjectivity</th>\n",
              "      <th>abs_title_sentiment_polarity</th>\n",
              "    </tr>\n",
              "  </thead>\n",
              "  <tbody>\n",
              "    <tr>\n",
              "      <th>count</th>\n",
              "      <td>3.564400e+04</td>\n",
              "      <td>3.564400e+04</td>\n",
              "      <td>3.564400e+04</td>\n",
              "      <td>3.564400e+04</td>\n",
              "      <td>3.564400e+04</td>\n",
              "      <td>3.564400e+04</td>\n",
              "      <td>3.564400e+04</td>\n",
              "      <td>3.564400e+04</td>\n",
              "      <td>3.564400e+04</td>\n",
              "      <td>3.564400e+04</td>\n",
              "      <td>3.564400e+04</td>\n",
              "      <td>35644.000000</td>\n",
              "      <td>35644.000000</td>\n",
              "      <td>35644.000000</td>\n",
              "      <td>35644.000000</td>\n",
              "      <td>35644.000000</td>\n",
              "      <td>35644.000000</td>\n",
              "      <td>3.564400e+04</td>\n",
              "      <td>3.564400e+04</td>\n",
              "      <td>3.564400e+04</td>\n",
              "      <td>3.564400e+04</td>\n",
              "      <td>3.564400e+04</td>\n",
              "      <td>3.564400e+04</td>\n",
              "      <td>3.564400e+04</td>\n",
              "      <td>3.564400e+04</td>\n",
              "      <td>3.564400e+04</td>\n",
              "      <td>3.564400e+04</td>\n",
              "      <td>3.564400e+04</td>\n",
              "      <td>3.564400e+04</td>\n",
              "      <td>35644.000000</td>\n",
              "      <td>35644.000000</td>\n",
              "      <td>35644.000000</td>\n",
              "      <td>35644.000000</td>\n",
              "      <td>35644.000000</td>\n",
              "      <td>35644.000000</td>\n",
              "      <td>35644.000000</td>\n",
              "      <td>35644.000000</td>\n",
              "      <td>3.564400e+04</td>\n",
              "      <td>3.564400e+04</td>\n",
              "      <td>3.564400e+04</td>\n",
              "      <td>3.564400e+04</td>\n",
              "      <td>3.564400e+04</td>\n",
              "      <td>3.564400e+04</td>\n",
              "      <td>3.564400e+04</td>\n",
              "      <td>3.564400e+04</td>\n",
              "      <td>3.564400e+04</td>\n",
              "      <td>3.564400e+04</td>\n",
              "      <td>3.564400e+04</td>\n",
              "      <td>3.564400e+04</td>\n",
              "      <td>3.564400e+04</td>\n",
              "      <td>3.564400e+04</td>\n",
              "      <td>3.564400e+04</td>\n",
              "      <td>3.564400e+04</td>\n",
              "      <td>3.564400e+04</td>\n",
              "      <td>3.564400e+04</td>\n",
              "      <td>3.564400e+04</td>\n",
              "      <td>3.564400e+04</td>\n",
              "      <td>3.564400e+04</td>\n",
              "    </tr>\n",
              "    <tr>\n",
              "      <th>mean</th>\n",
              "      <td>-2.958892e-16</td>\n",
              "      <td>2.266482e-16</td>\n",
              "      <td>-1.059016e-19</td>\n",
              "      <td>-2.923586e-17</td>\n",
              "      <td>2.553398e-16</td>\n",
              "      <td>-4.566604e-16</td>\n",
              "      <td>-4.585168e-16</td>\n",
              "      <td>-1.245788e-15</td>\n",
              "      <td>7.824823e-16</td>\n",
              "      <td>1.133646e-16</td>\n",
              "      <td>-1.848806e-15</td>\n",
              "      <td>0.052912</td>\n",
              "      <td>0.178291</td>\n",
              "      <td>0.158456</td>\n",
              "      <td>0.057962</td>\n",
              "      <td>0.185445</td>\n",
              "      <td>0.211677</td>\n",
              "      <td>1.237747e-15</td>\n",
              "      <td>-2.584280e-16</td>\n",
              "      <td>9.683148e-17</td>\n",
              "      <td>1.297694e-15</td>\n",
              "      <td>2.538142e-15</td>\n",
              "      <td>5.724700e-16</td>\n",
              "      <td>-1.561102e-15</td>\n",
              "      <td>-1.001149e-15</td>\n",
              "      <td>7.232518e-16</td>\n",
              "      <td>3.181519e-16</td>\n",
              "      <td>-1.572468e-16</td>\n",
              "      <td>4.691131e-17</td>\n",
              "      <td>0.167882</td>\n",
              "      <td>0.185108</td>\n",
              "      <td>0.187044</td>\n",
              "      <td>0.184603</td>\n",
              "      <td>0.143951</td>\n",
              "      <td>0.061974</td>\n",
              "      <td>0.069437</td>\n",
              "      <td>0.131411</td>\n",
              "      <td>-2.486138e-16</td>\n",
              "      <td>3.695111e-17</td>\n",
              "      <td>1.622787e-18</td>\n",
              "      <td>1.310689e-17</td>\n",
              "      <td>7.855410e-17</td>\n",
              "      <td>-3.406295e-16</td>\n",
              "      <td>-1.677856e-16</td>\n",
              "      <td>2.426653e-16</td>\n",
              "      <td>-6.348492e-17</td>\n",
              "      <td>2.655079e-16</td>\n",
              "      <td>-8.471431e-17</td>\n",
              "      <td>-2.967559e-16</td>\n",
              "      <td>-1.289499e-15</td>\n",
              "      <td>2.634708e-16</td>\n",
              "      <td>-2.978422e-16</td>\n",
              "      <td>1.149656e-16</td>\n",
              "      <td>3.908020e-16</td>\n",
              "      <td>3.088995e-16</td>\n",
              "      <td>-1.126879e-15</td>\n",
              "      <td>2.303610e-16</td>\n",
              "      <td>1.733672e-16</td>\n",
              "    </tr>\n",
              "    <tr>\n",
              "      <th>std</th>\n",
              "      <td>1.000014e+00</td>\n",
              "      <td>1.000014e+00</td>\n",
              "      <td>1.000014e+00</td>\n",
              "      <td>1.000014e+00</td>\n",
              "      <td>1.000014e+00</td>\n",
              "      <td>1.000014e+00</td>\n",
              "      <td>1.000014e+00</td>\n",
              "      <td>1.000014e+00</td>\n",
              "      <td>1.000014e+00</td>\n",
              "      <td>1.000014e+00</td>\n",
              "      <td>1.000014e+00</td>\n",
              "      <td>0.223861</td>\n",
              "      <td>0.382763</td>\n",
              "      <td>0.365173</td>\n",
              "      <td>0.233675</td>\n",
              "      <td>0.388664</td>\n",
              "      <td>0.408502</td>\n",
              "      <td>1.000014e+00</td>\n",
              "      <td>1.000014e+00</td>\n",
              "      <td>1.000014e+00</td>\n",
              "      <td>1.000014e+00</td>\n",
              "      <td>1.000014e+00</td>\n",
              "      <td>1.000014e+00</td>\n",
              "      <td>1.000014e+00</td>\n",
              "      <td>1.000014e+00</td>\n",
              "      <td>1.000014e+00</td>\n",
              "      <td>1.000014e+00</td>\n",
              "      <td>1.000014e+00</td>\n",
              "      <td>1.000014e+00</td>\n",
              "      <td>0.373767</td>\n",
              "      <td>0.388391</td>\n",
              "      <td>0.389952</td>\n",
              "      <td>0.387981</td>\n",
              "      <td>0.351045</td>\n",
              "      <td>0.241112</td>\n",
              "      <td>0.254199</td>\n",
              "      <td>0.337854</td>\n",
              "      <td>1.000014e+00</td>\n",
              "      <td>1.000014e+00</td>\n",
              "      <td>1.000014e+00</td>\n",
              "      <td>1.000014e+00</td>\n",
              "      <td>1.000014e+00</td>\n",
              "      <td>1.000014e+00</td>\n",
              "      <td>1.000014e+00</td>\n",
              "      <td>1.000014e+00</td>\n",
              "      <td>1.000014e+00</td>\n",
              "      <td>1.000014e+00</td>\n",
              "      <td>1.000014e+00</td>\n",
              "      <td>1.000014e+00</td>\n",
              "      <td>1.000014e+00</td>\n",
              "      <td>1.000014e+00</td>\n",
              "      <td>1.000014e+00</td>\n",
              "      <td>1.000014e+00</td>\n",
              "      <td>1.000014e+00</td>\n",
              "      <td>1.000014e+00</td>\n",
              "      <td>1.000014e+00</td>\n",
              "      <td>1.000014e+00</td>\n",
              "      <td>1.000014e+00</td>\n",
              "    </tr>\n",
              "    <tr>\n",
              "      <th>min</th>\n",
              "      <td>-3.961493e+00</td>\n",
              "      <td>-4.678671e+00</td>\n",
              "      <td>-4.053858e+00</td>\n",
              "      <td>-5.471241e+00</td>\n",
              "      <td>-4.541122e+00</td>\n",
              "      <td>-2.663460e+00</td>\n",
              "      <td>-1.744549e+00</td>\n",
              "      <td>-1.146694e+00</td>\n",
              "      <td>-5.880985e-01</td>\n",
              "      <td>-5.363474e+00</td>\n",
              "      <td>-3.258090e+00</td>\n",
              "      <td>0.000000</td>\n",
              "      <td>0.000000</td>\n",
              "      <td>0.000000</td>\n",
              "      <td>0.000000</td>\n",
              "      <td>0.000000</td>\n",
              "      <td>0.000000</td>\n",
              "      <td>-7.341757e-01</td>\n",
              "      <td>-4.884721e+00</td>\n",
              "      <td>-5.092457e+00</td>\n",
              "      <td>-1.114943e+00</td>\n",
              "      <td>-1.450693e+01</td>\n",
              "      <td>-1.313529e+01</td>\n",
              "      <td>-1.507758e+00</td>\n",
              "      <td>-1.480186e+01</td>\n",
              "      <td>-1.661289e+01</td>\n",
              "      <td>-2.012087e+00</td>\n",
              "      <td>-2.013773e+00</td>\n",
              "      <td>-2.031148e+00</td>\n",
              "      <td>0.000000</td>\n",
              "      <td>0.000000</td>\n",
              "      <td>0.000000</td>\n",
              "      <td>0.000000</td>\n",
              "      <td>0.000000</td>\n",
              "      <td>0.000000</td>\n",
              "      <td>0.000000</td>\n",
              "      <td>0.000000</td>\n",
              "      <td>-9.259657e+00</td>\n",
              "      <td>-4.234796e+00</td>\n",
              "      <td>-2.629545e+00</td>\n",
              "      <td>-2.397276e+00</td>\n",
              "      <td>-2.746753e+00</td>\n",
              "      <td>-3.797208e+00</td>\n",
              "      <td>-5.291003e+00</td>\n",
              "      <td>-2.274724e+00</td>\n",
              "      <td>-1.532073e+00</td>\n",
              "      <td>-3.581813e+00</td>\n",
              "      <td>-1.842147e+00</td>\n",
              "      <td>-3.381603e+00</td>\n",
              "      <td>-1.337291e+00</td>\n",
              "      <td>-3.053736e+00</td>\n",
              "      <td>-5.814768e+00</td>\n",
              "      <td>-1.650435e+00</td>\n",
              "      <td>-9.402624e+00</td>\n",
              "      <td>-8.704101e-01</td>\n",
              "      <td>-4.025296e+00</td>\n",
              "      <td>-1.813234e+00</td>\n",
              "      <td>-6.900426e-01</td>\n",
              "    </tr>\n",
              "    <tr>\n",
              "      <th>25%</th>\n",
              "      <td>-6.602974e-01</td>\n",
              "      <td>-3.004396e-01</td>\n",
              "      <td>-3.395607e-01</td>\n",
              "      <td>1.680154e-01</td>\n",
              "      <td>-2.084715e-01</td>\n",
              "      <td>-6.752426e-01</td>\n",
              "      <td>-7.436513e-01</td>\n",
              "      <td>-4.353051e-01</td>\n",
              "      <td>-5.880985e-01</td>\n",
              "      <td>-8.173306e-02</td>\n",
              "      <td>-6.407503e-01</td>\n",
              "      <td>0.000000</td>\n",
              "      <td>0.000000</td>\n",
              "      <td>0.000000</td>\n",
              "      <td>0.000000</td>\n",
              "      <td>0.000000</td>\n",
              "      <td>0.000000</td>\n",
              "      <td>-7.341757e-01</td>\n",
              "      <td>-2.246830e-01</td>\n",
              "      <td>-2.573925e-01</td>\n",
              "      <td>-1.114943e+00</td>\n",
              "      <td>2.958031e-01</td>\n",
              "      <td>-1.960124e-01</td>\n",
              "      <td>-1.141307e+00</td>\n",
              "      <td>-5.336845e-01</td>\n",
              "      <td>-4.187694e-01</td>\n",
              "      <td>8.693428e-02</td>\n",
              "      <td>2.645834e-02</td>\n",
              "      <td>6.855813e-02</td>\n",
              "      <td>0.000000</td>\n",
              "      <td>0.000000</td>\n",
              "      <td>0.000000</td>\n",
              "      <td>0.000000</td>\n",
              "      <td>0.000000</td>\n",
              "      <td>0.000000</td>\n",
              "      <td>0.000000</td>\n",
              "      <td>0.000000</td>\n",
              "      <td>-5.489534e-01</td>\n",
              "      <td>-8.445915e-01</td>\n",
              "      <td>-6.343829e-01</td>\n",
              "      <td>-8.249142e-01</td>\n",
              "      <td>-7.228711e-01</td>\n",
              "      <td>-4.042108e-01</td>\n",
              "      <td>-6.337054e-01</td>\n",
              "      <td>-6.439305e-01</td>\n",
              "      <td>-6.460143e-01</td>\n",
              "      <td>-4.318387e-01</td>\n",
              "      <td>-6.558136e-01</td>\n",
              "      <td>-4.522259e-01</td>\n",
              "      <td>-6.375557e-01</td>\n",
              "      <td>-6.318981e-01</td>\n",
              "      <td>-5.408827e-01</td>\n",
              "      <td>-6.165215e-01</td>\n",
              "      <td>-1.856657e-01</td>\n",
              "      <td>-8.704101e-01</td>\n",
              "      <td>-2.670851e-01</td>\n",
              "      <td>-9.297401e-01</td>\n",
              "      <td>-6.900426e-01</td>\n",
              "    </tr>\n",
              "    <tr>\n",
              "      <th>50%</th>\n",
              "      <td>-1.886980e-01</td>\n",
              "      <td>1.022823e-01</td>\n",
              "      <td>9.706374e-02</td>\n",
              "      <td>1.680154e-01</td>\n",
              "      <td>1.400306e-01</td>\n",
              "      <td>5.087884e-02</td>\n",
              "      <td>2.572462e-01</td>\n",
              "      <td>-4.353051e-01</td>\n",
              "      <td>-5.880985e-01</td>\n",
              "      <td>1.372535e-01</td>\n",
              "      <td>-1.172824e-01</td>\n",
              "      <td>0.000000</td>\n",
              "      <td>0.000000</td>\n",
              "      <td>0.000000</td>\n",
              "      <td>0.000000</td>\n",
              "      <td>0.000000</td>\n",
              "      <td>0.000000</td>\n",
              "      <td>-7.341757e-01</td>\n",
              "      <td>7.470564e-02</td>\n",
              "      <td>1.547318e-01</td>\n",
              "      <td>4.874880e-01</td>\n",
              "      <td>2.958031e-01</td>\n",
              "      <td>1.765299e-01</td>\n",
              "      <td>7.103955e-01</td>\n",
              "      <td>-1.829031e-01</td>\n",
              "      <td>-3.177744e-02</td>\n",
              "      <td>2.919673e-01</td>\n",
              "      <td>2.984584e-01</td>\n",
              "      <td>3.148735e-01</td>\n",
              "      <td>0.000000</td>\n",
              "      <td>0.000000</td>\n",
              "      <td>0.000000</td>\n",
              "      <td>0.000000</td>\n",
              "      <td>0.000000</td>\n",
              "      <td>0.000000</td>\n",
              "      <td>0.000000</td>\n",
              "      <td>0.000000</td>\n",
              "      <td>-4.768547e-02</td>\n",
              "      <td>-1.072279e-01</td>\n",
              "      <td>2.299147e-02</td>\n",
              "      <td>4.307721e-01</td>\n",
              "      <td>2.012582e-01</td>\n",
              "      <td>8.741900e-02</td>\n",
              "      <td>-9.530908e-04</td>\n",
              "      <td>-3.372988e-02</td>\n",
              "      <td>-1.187305e-01</td>\n",
              "      <td>1.484197e-01</td>\n",
              "      <td>-5.217950e-02</td>\n",
              "      <td>4.698618e-02</td>\n",
              "      <td>6.217940e-02</td>\n",
              "      <td>1.753813e-01</td>\n",
              "      <td>4.652094e-02</td>\n",
              "      <td>7.275426e-02</td>\n",
              "      <td>7.767597e-02</td>\n",
              "      <td>-4.251189e-01</td>\n",
              "      <td>-2.670851e-01</td>\n",
              "      <td>8.372478e-01</td>\n",
              "      <td>-6.900426e-01</td>\n",
              "    </tr>\n",
              "    <tr>\n",
              "      <th>75%</th>\n",
              "      <td>7.545009e-01</td>\n",
              "      <td>5.442271e-01</td>\n",
              "      <td>5.229117e-01</td>\n",
              "      <td>1.680154e-01</td>\n",
              "      <td>4.712522e-01</td>\n",
              "      <td>6.819266e-01</td>\n",
              "      <td>5.794632e-01</td>\n",
              "      <td>5.050997e-01</td>\n",
              "      <td>4.325282e-01</td>\n",
              "      <td>3.631629e-01</td>\n",
              "      <td>9.296534e-01</td>\n",
              "      <td>0.000000</td>\n",
              "      <td>0.000000</td>\n",
              "      <td>0.000000</td>\n",
              "      <td>0.000000</td>\n",
              "      <td>0.000000</td>\n",
              "      <td>0.000000</td>\n",
              "      <td>5.227963e-01</td>\n",
              "      <td>3.928817e-01</td>\n",
              "      <td>4.902696e-01</td>\n",
              "      <td>8.700846e-01</td>\n",
              "      <td>2.958031e-01</td>\n",
              "      <td>5.003925e-01</td>\n",
              "      <td>9.062277e-01</td>\n",
              "      <td>3.830957e-01</td>\n",
              "      <td>4.415979e-01</td>\n",
              "      <td>5.430547e-01</td>\n",
              "      <td>6.005364e-01</td>\n",
              "      <td>5.769916e-01</td>\n",
              "      <td>0.000000</td>\n",
              "      <td>0.000000</td>\n",
              "      <td>0.000000</td>\n",
              "      <td>0.000000</td>\n",
              "      <td>0.000000</td>\n",
              "      <td>0.000000</td>\n",
              "      <td>0.000000</td>\n",
              "      <td>0.000000</td>\n",
              "      <td>6.635255e-01</td>\n",
              "      <td>9.913437e-01</td>\n",
              "      <td>8.328292e-01</td>\n",
              "      <td>8.611792e-01</td>\n",
              "      <td>7.766996e-01</td>\n",
              "      <td>5.569519e-01</td>\n",
              "      <td>6.023008e-01</td>\n",
              "      <td>6.135237e-01</td>\n",
              "      <td>4.752828e-01</td>\n",
              "      <td>6.181527e-01</td>\n",
              "      <td>6.135626e-01</td>\n",
              "      <td>5.490200e-01</td>\n",
              "      <td>6.217940e-02</td>\n",
              "      <td>9.826607e-01</td>\n",
              "      <td>5.715933e-01</td>\n",
              "      <td>7.620300e-01</td>\n",
              "      <td>6.043593e-01</td>\n",
              "      <td>6.709825e-01</td>\n",
              "      <td>2.966466e-01</td>\n",
              "      <td>8.372478e-01</td>\n",
              "      <td>4.128296e-01</td>\n",
              "    </tr>\n",
              "    <tr>\n",
              "      <th>max</th>\n",
              "      <td>5.942095e+00</td>\n",
              "      <td>2.509161e+00</td>\n",
              "      <td>5.903901e+01</td>\n",
              "      <td>5.107089e+01</td>\n",
              "      <td>5.322728e+01</td>\n",
              "      <td>4.403120e+00</td>\n",
              "      <td>5.131982e+00</td>\n",
              "      <td>3.841014e+00</td>\n",
              "      <td>6.070023e+00</td>\n",
              "      <td>4.122009e+00</td>\n",
              "      <td>1.453121e+00</td>\n",
              "      <td>1.000000</td>\n",
              "      <td>1.000000</td>\n",
              "      <td>1.000000</td>\n",
              "      <td>1.000000</td>\n",
              "      <td>1.000000</td>\n",
              "      <td>1.000000</td>\n",
              "      <td>2.522165e+00</td>\n",
              "      <td>4.745159e+00</td>\n",
              "      <td>4.372175e+00</td>\n",
              "      <td>1.903066e+00</td>\n",
              "      <td>2.958031e-01</td>\n",
              "      <td>1.504761e+00</td>\n",
              "      <td>1.063974e+00</td>\n",
              "      <td>7.192689e+00</td>\n",
              "      <td>5.632593e+00</td>\n",
              "      <td>2.421618e+00</td>\n",
              "      <td>1.960987e+00</td>\n",
              "      <td>2.128009e+00</td>\n",
              "      <td>1.000000</td>\n",
              "      <td>1.000000</td>\n",
              "      <td>1.000000</td>\n",
              "      <td>1.000000</td>\n",
              "      <td>1.000000</td>\n",
              "      <td>1.000000</td>\n",
              "      <td>1.000000</td>\n",
              "      <td>1.000000</td>\n",
              "      <td>2.457697e+00</td>\n",
              "      <td>1.591524e+00</td>\n",
              "      <td>1.504506e+00</td>\n",
              "      <td>1.077936e+00</td>\n",
              "      <td>1.609336e+00</td>\n",
              "      <td>4.767076e+00</td>\n",
              "      <td>6.269638e+00</td>\n",
              "      <td>6.650885e+00</td>\n",
              "      <td>1.554420e+01</td>\n",
              "      <td>1.668144e+00</td>\n",
              "      <td>4.564051e+00</td>\n",
              "      <td>6.171995e+00</td>\n",
              "      <td>1.265741e+01</td>\n",
              "      <td>9.826607e-01</td>\n",
              "      <td>2.035172e+00</td>\n",
              "      <td>1.795944e+00</td>\n",
              "      <td>1.131043e+00</td>\n",
              "      <td>2.212375e+00</td>\n",
              "      <td>3.491126e+00</td>\n",
              "      <td>8.372478e-01</td>\n",
              "      <td>3.721446e+00</td>\n",
              "    </tr>\n",
              "  </tbody>\n",
              "</table>\n",
              "</div>"
            ],
            "text/plain": [
              "       n_tokens_title  ...  abs_title_sentiment_polarity\n",
              "count    3.564400e+04  ...                  3.564400e+04\n",
              "mean    -2.958892e-16  ...                  1.733672e-16\n",
              "std      1.000014e+00  ...                  1.000014e+00\n",
              "min     -3.961493e+00  ...                 -6.900426e-01\n",
              "25%     -6.602974e-01  ...                 -6.900426e-01\n",
              "50%     -1.886980e-01  ...                 -6.900426e-01\n",
              "75%      7.545009e-01  ...                  4.128296e-01\n",
              "max      5.942095e+00  ...                  3.721446e+00\n",
              "\n",
              "[8 rows x 58 columns]"
            ]
          },
          "metadata": {
            "tags": []
          },
          "execution_count": 55
        }
      ]
    },
    {
      "cell_type": "code",
      "metadata": {
        "id": "Gj1YhJfbnXbn"
      },
      "source": [
        "# using training's mean and std to perform scaling on the testing and do log scaling\n",
        "df_test_copy = test_X.copy(deep=True)\n",
        "for column in columns_do_maping:\n",
        "  if df_test_copy[column].min() <= -1:\n",
        "    df_test_copy[column] = np.log(df_test_copy[column]-df_test_copy[column].min()+0.37)\n",
        "  elif df_test_copy[column].min() == 0:\n",
        "    df_test_copy[column] = np.log(df_test_copy[column]+1)\n",
        "  else:\n",
        "    df_test_copy[column] = np.log(df_test_copy[column])\n",
        "df_test_copy[col] = scaler.transform(df_test_copy[col])"
      ],
      "execution_count": null,
      "outputs": []
    },
    {
      "cell_type": "code",
      "metadata": {
        "id": "5CMAZB9GKE90"
      },
      "source": [
        "mR2 = []\n",
        "pMAE = []\n",
        "pMSE = []\n",
        "mR2_test = []\n",
        "pMAE_test = []\n",
        "pMSE_test = []"
      ],
      "execution_count": null,
      "outputs": []
    },
    {
      "cell_type": "code",
      "metadata": {
        "colab": {
          "base_uri": "https://localhost:8080/"
        },
        "id": "TE7dgAs6JKdx",
        "outputId": "496e43e8-7478-4c8b-a8e3-f29853ef63ef"
      },
      "source": [
        "# lasso\n",
        "lasso = Lasso(max_iter=10000)\n",
        "lasso.set_params(alpha = 0.001)\n",
        "lasso.fit(df_copy, train_y_deep_copy.reshape(train_y_deep_copy.shape[0],))\n",
        "y_pred = np.exp(lasso.predict(df_copy))\n",
        "mR2.append(modifiedR2(train_y, y_pred))\n",
        "pMAE.append(PMAE(train_y, y_pred))\n",
        "pMSE.append(PMSE(train_y, y_pred))\n",
        "print_metrics(train_y, y_pred)"
      ],
      "execution_count": null,
      "outputs": [
        {
          "output_type": "stream",
          "text": [
            "mean_absolute_error: 2409.4486873941023\n",
            "r2_score: -0.006694327383529153\n",
            "PMSE: 4.713351500719558\n",
            "PMAE: 0.730322542649943\n",
            "modifiedR2: 0.7469455735403765\n"
          ],
          "name": "stdout"
        }
      ]
    },
    {
      "cell_type": "code",
      "metadata": {
        "colab": {
          "base_uri": "https://localhost:8080/"
        },
        "id": "fcIGHaE_KV1b",
        "outputId": "9b1687c3-905a-4571-846e-4c12ca76d1ec"
      },
      "source": [
        "y_pred = np.exp(lasso.predict(df_test_copy))\n",
        "mR2_test.append(modifiedR2(test_y, y_pred))\n",
        "pMAE_test.append(PMAE(test_y, y_pred))\n",
        "pMSE_test.append(PMSE(test_y, y_pred))\n",
        "print_metrics(test_y,y_pred)"
      ],
      "execution_count": null,
      "outputs": [
        {
          "output_type": "stream",
          "text": [
            "mean_absolute_error: 2134.675516325412\n",
            "r2_score: -0.010774884875702329\n",
            "PMSE: 1.434416358003422\n",
            "PMAE: 0.6944969465379827\n",
            "modifiedR2: 0.8352804880338427\n"
          ],
          "name": "stdout"
        }
      ]
    },
    {
      "cell_type": "code",
      "metadata": {
        "colab": {
          "base_uri": "https://localhost:8080/"
        },
        "id": "4dJ7y3TUJLuv",
        "outputId": "7a9e1df5-203f-4e66-cce2-cecf7f43f4c5"
      },
      "source": [
        "# ridge\n",
        "ridge = Ridge(max_iter=10000)\n",
        "ridge.set_params(alpha = 38.93690663537552)\n",
        "ridge.fit(df_copy, train_y_deep_copy.reshape(train_y_deep_copy.shape[0],))\n",
        "y_pred = np.exp(ridge.predict(df_copy))\n",
        "mR2.append(modifiedR2(train_y, y_pred))\n",
        "pMAE.append(PMAE(train_y, y_pred))\n",
        "pMSE.append(PMSE(train_y, y_pred))\n",
        "print_metrics(train_y, y_pred)"
      ],
      "execution_count": null,
      "outputs": [
        {
          "output_type": "stream",
          "text": [
            "mean_absolute_error: 2408.9842777092767\n",
            "r2_score: -0.006417823505931786\n",
            "PMSE: 4.729872502338948\n",
            "PMAE: 0.7298333015800214\n",
            "modifiedR2: 0.7460585799459681\n"
          ],
          "name": "stdout"
        }
      ]
    },
    {
      "cell_type": "code",
      "metadata": {
        "colab": {
          "base_uri": "https://localhost:8080/"
        },
        "id": "5aCshJqkNW_D",
        "outputId": "4f011ead-5399-4049-8ca5-186393bd2b66"
      },
      "source": [
        "y_pred = np.exp(ridge.predict(df_test_copy))\n",
        "mR2_test.append(modifiedR2(test_y, y_pred))\n",
        "pMAE_test.append(PMAE(test_y, y_pred))\n",
        "pMSE_test.append(PMSE(test_y, y_pred))\n",
        "print_metrics(test_y,y_pred)"
      ],
      "execution_count": null,
      "outputs": [
        {
          "output_type": "stream",
          "text": [
            "mean_absolute_error: 2134.3827587295564\n",
            "r2_score: -0.009238732423772156\n",
            "PMSE: 1.4183996376897652\n",
            "PMAE: 0.6946217726401597\n",
            "modifiedR2: 0.8371197492348487\n"
          ],
          "name": "stdout"
        }
      ]
    },
    {
      "cell_type": "code",
      "metadata": {
        "colab": {
          "base_uri": "https://localhost:8080/"
        },
        "id": "d0Yb0zAcJM8J",
        "outputId": "93449c51-6981-44f7-bf8d-3b31af896dd0"
      },
      "source": [
        "# svr\n",
        "svr = SVR(C = 10)\n",
        "svr.set_params(gamma = 425)\n",
        "svr.fit(df_copy, train_y_deep_copy.reshape(train_y_deep_copy.shape[0],))\n",
        "y_pred = np.exp(svr.predict(df_copy))\n",
        "mR2.append(modifiedR2(train_y, y_pred))\n",
        "pMAE.append(PMAE(train_y, y_pred))\n",
        "pMSE.append(PMSE(train_y, y_pred))\n",
        "print_metrics(train_y, y_pred)"
      ],
      "execution_count": null,
      "outputs": [
        {
          "output_type": "stream",
          "text": [
            "mean_absolute_error: 322.79232048275713\n",
            "r2_score: 0.9901744822059361\n",
            "PMSE: 0.009565407774667785\n",
            "PMAE: 0.09619092305886753\n",
            "modifiedR2: 0.9994864442471771\n"
          ],
          "name": "stdout"
        }
      ]
    },
    {
      "cell_type": "code",
      "metadata": {
        "colab": {
          "base_uri": "https://localhost:8080/"
        },
        "id": "Vm9LTMGaOBBo",
        "outputId": "5e3a366c-1296-46d1-e6f5-30a02633a51d"
      },
      "source": [
        "y_pred = np.exp(svr.predict(df_test_copy))\n",
        "mR2_test.append(modifiedR2(test_y, y_pred))\n",
        "pMAE_test.append(PMAE(test_y, y_pred))\n",
        "pMSE_test.append(PMSE(test_y, y_pred))\n",
        "print_metrics(test_y,y_pred)"
      ],
      "execution_count": null,
      "outputs": [
        {
          "output_type": "stream",
          "text": [
            "mean_absolute_error: 2231.577950608775\n",
            "r2_score: -0.044791364617817075\n",
            "PMSE: 2.3286546377669146\n",
            "PMAE: 0.7940579988088389\n",
            "modifiedR2: 0.7325916890653725\n"
          ],
          "name": "stdout"
        }
      ]
    },
    {
      "cell_type": "code",
      "metadata": {
        "colab": {
          "base_uri": "https://localhost:8080/"
        },
        "id": "U6hUwytFJRhu",
        "outputId": "3dc579b7-0744-4ecd-b7a4-03ae789186f8"
      },
      "source": [
        "# KNN Reregssor\n",
        "knn = KNeighborsRegressor(weights = \"distance\")\n",
        "knn.set_params(n_neighbors= 21)\n",
        "knn.fit(df_copy, train_y_deep_copy.reshape(train_y_deep_copy.shape[0],))\n",
        "y_pred = np.exp(knn.predict(df_copy))\n",
        "mR2.append(modifiedR2(train_y, y_pred))\n",
        "pMAE.append(PMAE(train_y, y_pred))\n",
        "pMSE.append(PMSE(train_y, y_pred))\n",
        "print_metrics(train_y, y_pred)"
      ],
      "execution_count": null,
      "outputs": [
        {
          "output_type": "stream",
          "text": [
            "mean_absolute_error: 1.23327552985463e-12\n",
            "r2_score: 1.0\n",
            "PMSE: 1.0249125272221086e-31\n",
            "PMAE: 2.432146326710546e-16\n",
            "modifiedR2: 1.0\n"
          ],
          "name": "stdout"
        }
      ]
    },
    {
      "cell_type": "code",
      "metadata": {
        "colab": {
          "base_uri": "https://localhost:8080/"
        },
        "id": "WoHX3SXTOXfA",
        "outputId": "92cae84d-01cf-4755-d61a-89e103d45826"
      },
      "source": [
        "y_pred = np.exp(knn.predict(df_test_copy))\n",
        "mR2_test.append(modifiedR2(test_y, y_pred))\n",
        "pMAE_test.append(PMAE(test_y, y_pred))\n",
        "pMSE_test.append(PMSE(test_y, y_pred))\n",
        "print_metrics(test_y,y_pred)"
      ],
      "execution_count": null,
      "outputs": [
        {
          "output_type": "stream",
          "text": [
            "mean_absolute_error: 2139.859402463073\n",
            "r2_score: -0.02710447125167814\n",
            "PMSE: 1.1107932051251312\n",
            "PMAE: 0.6598381434391499\n",
            "modifiedR2: 0.8724433713944729\n"
          ],
          "name": "stdout"
        }
      ]
    },
    {
      "cell_type": "code",
      "metadata": {
        "colab": {
          "base_uri": "https://localhost:8080/"
        },
        "id": "SLMZyeQvJhTG",
        "outputId": "a0afb0f0-cfc5-4c4c-f25f-44b59620b425"
      },
      "source": [
        "# MLP\n",
        "mlp = MLPRegressor(hidden_layer_sizes= 75, max_iter=1000, random_state=5, activation = \"tanh\", learning_rate = \"adaptive\")  \n",
        "mlp.set_params(alpha = 0.05689866029018293)\n",
        "mlp.fit(df_copy, train_y_deep_copy.reshape(train_y_deep_copy.shape[0],))\n",
        "y_pred = np.exp(mlp.predict(df_copy))\n",
        "mR2.append(modifiedR2(train_y, y_pred))\n",
        "pMAE.append(PMAE(train_y, y_pred))\n",
        "pMSE.append(PMSE(train_y, y_pred))\n",
        "print_metrics(train_y, y_pred)"
      ],
      "execution_count": null,
      "outputs": [
        {
          "output_type": "stream",
          "text": [
            "mean_absolute_error: 2294.0268343913917\n",
            "r2_score: 0.027333950937260987\n",
            "PMSE: 2.3390421722196733\n",
            "PMAE: 0.6677268579652652\n",
            "modifiedR2: 0.8744195133196497\n"
          ],
          "name": "stdout"
        }
      ]
    },
    {
      "cell_type": "code",
      "metadata": {
        "colab": {
          "base_uri": "https://localhost:8080/"
        },
        "id": "N6up13PtPFLV",
        "outputId": "f5a09128-a94f-4fb3-e4fa-74c946f21098"
      },
      "source": [
        "y_pred = np.exp(mlp.predict(df_test_copy))\n",
        "mR2_test.append(modifiedR2(test_y, y_pred))\n",
        "pMAE_test.append(PMAE(test_y, y_pred))\n",
        "pMSE_test.append(PMSE(test_y, y_pred))\n",
        "print_metrics(test_y,y_pred)"
      ],
      "execution_count": null,
      "outputs": [
        {
          "output_type": "stream",
          "text": [
            "mean_absolute_error: 2179.7358524153065\n",
            "r2_score: 0.006226486691639943\n",
            "PMSE: 1.61060037914098\n",
            "PMAE: 0.7405001579324854\n",
            "modifiedR2: 0.8150486036049672\n"
          ],
          "name": "stdout"
        }
      ]
    },
    {
      "cell_type": "code",
      "metadata": {
        "colab": {
          "base_uri": "https://localhost:8080/"
        },
        "id": "BL0U7mbpSbqB",
        "outputId": "bf9494b8-ead1-46a9-f013-7cad4ee59d58"
      },
      "source": [
        "# XGboost\n",
        "xgb = GradientBoostingRegressor(n_estimators= 150, loss = 'huber', random_state=5)\n",
        "xgb.set_params(max_depth= 11)\n",
        "xgb.fit(df_copy, train_y_deep_copy.reshape(train_y_deep_copy.shape[0],))\n",
        "y_pred = np.exp(xgb.predict(df_copy))\n",
        "mR2.append(modifiedR2(train_y, y_pred))\n",
        "pMAE.append(PMAE(train_y, y_pred))\n",
        "pMSE.append(PMSE(train_y, y_pred))\n",
        "print_metrics(train_y, y_pred)"
      ],
      "execution_count": null,
      "outputs": [
        {
          "output_type": "stream",
          "text": [
            "mean_absolute_error: 1133.9642533980652\n",
            "r2_score: 0.3792018926749158\n",
            "PMSE: 0.11641187695333462\n",
            "PMAE: 0.19330539097489033\n",
            "modifiedR2: 0.9937499800829586\n"
          ],
          "name": "stdout"
        }
      ]
    },
    {
      "cell_type": "code",
      "metadata": {
        "colab": {
          "base_uri": "https://localhost:8080/"
        },
        "id": "2TpzeuxSUWV1",
        "outputId": "72ee9f34-34b6-4600-e9ba-aa5afdc751d4"
      },
      "source": [
        "y_pred = np.exp(xgb.predict(df_test_copy))\n",
        "mR2_test.append(modifiedR2(test_y, y_pred))\n",
        "pMAE_test.append(PMAE(test_y, y_pred))\n",
        "pMSE_test.append(PMSE(test_y, y_pred))\n",
        "print_metrics(test_y,y_pred)"
      ],
      "execution_count": null,
      "outputs": [
        {
          "output_type": "stream",
          "text": [
            "mean_absolute_error: 2109.8547552429322\n",
            "r2_score: 0.018268778243936468\n",
            "PMSE: 1.164958356299957\n",
            "PMAE: 0.6685980127891241\n",
            "modifiedR2: 0.8662233800946602\n"
          ],
          "name": "stdout"
        }
      ]
    },
    {
      "cell_type": "code",
      "metadata": {
        "colab": {
          "base_uri": "https://localhost:8080/"
        },
        "id": "K6cEoYAfrzXg",
        "outputId": "6285b8b8-4acb-4c08-c7f9-a609de2fc9ac"
      },
      "source": [
        "# SGD\n",
        "sgd = SGDRegressor(max_iter=10000, loss = \"huber\", tol=1e-6, shuffle = True, random_state = 5)\n",
        "sgd.set_params(alpha = 0.0006691189901715636)\n",
        "sgd.fit(df_copy, train_y_deep_copy.reshape(train_y_deep_copy.shape[0],))\n",
        "y_pred = np.exp(sgd.predict(df_copy))\n",
        "mR2.append(modifiedR2(train_y, y_pred))\n",
        "pMAE.append(PMAE(train_y, y_pred))\n",
        "pMSE.append(PMSE(train_y, y_pred))\n",
        "print_metrics(train_y, y_pred)"
      ],
      "execution_count": null,
      "outputs": [
        {
          "output_type": "stream",
          "text": [
            "mean_absolute_error: 2378.4410871449504\n",
            "r2_score: -0.01836458152641618\n",
            "PMSE: 3.171814275206881\n",
            "PMAE: 0.5858394473281113\n",
            "modifiedR2: 0.8297089359606663\n"
          ],
          "name": "stdout"
        }
      ]
    },
    {
      "cell_type": "code",
      "metadata": {
        "colab": {
          "base_uri": "https://localhost:8080/"
        },
        "id": "3fZjgsbnyIWC",
        "outputId": "f4f92389-6666-4cee-f0a9-d2a06321bb90"
      },
      "source": [
        "y_pred = np.exp(sgd.predict(df_test_copy))\n",
        "mR2_test.append(modifiedR2(test_y, y_pred))\n",
        "pMAE_test.append(PMAE(test_y, y_pred))\n",
        "pMSE_test.append(PMSE(test_y, y_pred))\n",
        "print_metrics(test_y,y_pred)"
      ],
      "execution_count": null,
      "outputs": [
        {
          "output_type": "stream",
          "text": [
            "mean_absolute_error: 2108.6011932083893\n",
            "r2_score: -0.041887493160640554\n",
            "PMSE: 0.9782970637451303\n",
            "PMAE: 0.5604676616304614\n",
            "modifiedR2: 0.887658409638941\n"
          ],
          "name": "stdout"
        }
      ]
    },
    {
      "cell_type": "code",
      "metadata": {
        "colab": {
          "base_uri": "https://localhost:8080/"
        },
        "id": "RRLEzMbTeJtA",
        "outputId": "9469eec8-c841-4f66-e9dc-c60aeb1aabb5"
      },
      "source": [
        "# random forest\n",
        "rf = RandomForestRegressor(n_estimators= 150, bootstrap= False, max_features = \"log2\", random_state=5, n_jobs=-1)\n",
        "rf.set_params(max_depth= 22)\n",
        "rf.fit(df_copy, train_y_deep_copy.reshape(train_y_deep_copy.shape[0],))\n",
        "y_pred = np.exp(rf.predict(df_copy))\n",
        "mR2.append(modifiedR2(train_y, y_pred))\n",
        "pMAE.append(PMAE(train_y, y_pred))\n",
        "pMSE.append(PMSE(train_y, y_pred))\n",
        "print_metrics(train_y, y_pred)"
      ],
      "execution_count": null,
      "outputs": [
        {
          "output_type": "stream",
          "text": [
            "mean_absolute_error: 507.13750741488695\n",
            "r2_score: 0.9579039226737699\n",
            "PMSE: 0.03126174398872842\n",
            "PMAE: 0.1305207534786111\n",
            "modifiedR2: 0.9983215928848108\n"
          ],
          "name": "stdout"
        }
      ]
    },
    {
      "cell_type": "code",
      "metadata": {
        "colab": {
          "base_uri": "https://localhost:8080/"
        },
        "id": "dL9xRLHYeZ9F",
        "outputId": "162596a1-ce7d-41c0-8ef8-6dccc701dabf"
      },
      "source": [
        "y_pred = np.exp(rf.predict(df_test_copy))\n",
        "mR2_test.append(modifiedR2(test_y, y_pred))\n",
        "pMAE_test.append(PMAE(test_y, y_pred))\n",
        "pMSE_test.append(PMSE(test_y, y_pred))\n",
        "print_metrics(test_y,y_pred)"
      ],
      "execution_count": null,
      "outputs": [
        {
          "output_type": "stream",
          "text": [
            "mean_absolute_error: 2104.006179757229\n",
            "r2_score: 0.00281563148315489\n",
            "PMSE: 1.1099108852395412\n",
            "PMAE: 0.6769435319008268\n",
            "modifiedR2: 0.8725446915586927\n"
          ],
          "name": "stdout"
        }
      ]
    },
    {
      "cell_type": "code",
      "metadata": {
        "colab": {
          "base_uri": "https://localhost:8080/",
          "height": 264
        },
        "id": "EYF3sma1SszB",
        "outputId": "d10be999-fe31-4e17-fcd4-b56c084853f5"
      },
      "source": [
        "plt.tick_params(axis='x', labelsize=8)\n",
        "plt.plot(['Lasso','Ridge', 'SVR', 'KNN', 'MLP', 'XGboost', 'SGD','RF'],pMAE, label = 'pMAE on train')\n",
        "plt.plot(['Lasso','Ridge', 'SVR', 'KNN', 'MLP', 'XGboost', 'SGD','RF'],pMAE_test, label = 'pMAE on test')\n",
        "plt.grid(True)\n",
        "plt.legend()\n",
        "plt.show()"
      ],
      "execution_count": null,
      "outputs": [
        {
          "output_type": "display_data",
          "data": {
            "image/png": "[encoded data removed]",
            "text/plain": [
              "<Figure size 432x288 with 1 Axes>"
            ]
          },
          "metadata": {
            "tags": [],
            "needs_background": "light"
          }
        }
      ]
    },
    {
      "cell_type": "code",
      "metadata": {
        "colab": {
          "base_uri": "https://localhost:8080/",
          "height": 264
        },
        "id": "azVBDC-wVHzz",
        "outputId": "de4c1b8d-78c3-4290-f60c-263b05894c9d"
      },
      "source": [
        "plt.tick_params(axis='x', labelsize=8)\n",
        "plt.plot(['Lasso','Ridge', 'SVR', 'KNN', 'MLP', 'XGboost', 'SGD','RF'],pMSE, label = 'pMSE on train')\n",
        "plt.plot(['Lasso','Ridge', 'SVR', 'KNN', 'MLP', 'XGboost', 'SGD','RF'],pMSE_test, label = 'pMSE on test')\n",
        "plt.grid(True)\n",
        "plt.legend()\n",
        "plt.show()"
      ],
      "execution_count": null,
      "outputs": [
        {
          "output_type": "display_data",
          "data": {
            "image/png": "[encoded data removed]",
            "text/plain": [
              "<Figure size 432x288 with 1 Axes>"
            ]
          },
          "metadata": {
            "tags": [],
            "needs_background": "light"
          }
        }
      ]
    },
    {
      "cell_type": "code",
      "metadata": {
        "colab": {
          "base_uri": "https://localhost:8080/",
          "height": 264
        },
        "id": "FvZ90xrWVJMY",
        "outputId": "2e075077-3a18-4775-d6ae-527e6190cd2e"
      },
      "source": [
        "plt.tick_params(axis='x', labelsize=8)\n",
        "plt.plot(['Lasso','Ridge', 'SVR', 'KNN', 'MLP', 'XGboost', 'SGD','RF'],mR2, label = 'mR2 on train')\n",
        "plt.plot(['Lasso','Ridge', 'SVR', 'KNN', 'MLP', 'XGboost', 'SGD','RF'],mR2_test, label = 'mR2 on test')\n",
        "plt.grid(True)\n",
        "plt.legend()\n",
        "plt.show()"
      ],
      "execution_count": null,
      "outputs": [
        {
          "output_type": "display_data",
          "data": {
            "image/png": "[encoded data removed]",
            "text/plain": [
              "<Figure size 432x288 with 1 Axes>"
            ]
          },
          "metadata": {
            "tags": [],
            "needs_background": "light"
          }
        }
      ]
    }
  ]
}